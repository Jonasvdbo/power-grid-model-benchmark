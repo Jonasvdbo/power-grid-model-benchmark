{
 "cells": [
  {
   "cell_type": "markdown",
   "id": "cd7b594e",
   "metadata": {},
   "source": [
    "# Introduction\n"
   ]
  },
  {
   "cell_type": "code",
   "execution_count": 1,
   "id": "0267ac98",
   "metadata": {},
   "outputs": [],
   "source": [
    "import numpy as np\n",
    "import pandas as pd\n",
    "import pandapower as pp\n",
    "import power_grid_model as pgm\n",
    "from generate_fictional_dataset import generate_fictional_grid, generate_time_series\n",
    "import time\n",
    "from pathlib import Path\n",
    "import tempfile\n",
    "\n",
    "output_dir = Path(tempfile.gettempdir()) / \"pandapower_time_series\"\n",
    "output_dir.mkdir(exist_ok=True)\n"
   ]
  },
  {
   "cell_type": "code",
   "execution_count": 2,
   "id": "34db0eaa",
   "metadata": {},
   "outputs": [],
   "source": [
    "# summary\n",
    "summary_df = pd.DataFrame(\n",
    "    np.zeros(shape=(8, 3), dtype=np.float64), \n",
    "    columns=['PGM Linear', 'PGM NR', 'PandaPower NR'],\n",
    "    index=[\n",
    "        'Symmetric calculation with solver initialization',\n",
    "        'Symmetric calculation without solver initialization',\n",
    "        'Asymmetric calculation with solver initialization',\n",
    "        'Asymmetric calculation without solver initialization',\n",
    "        'Time series symmetric calculation',\n",
    "        'Time series asymmetric calculation',\n",
    "        'N-1 symmetric calculation',\n",
    "        'N-1 asymmetric calculation',\n",
    "    ]\n",
    ")"
   ]
  },
  {
   "cell_type": "code",
   "execution_count": 3,
   "id": "ece0138d",
   "metadata": {},
   "outputs": [],
   "source": [
    "# fictional grid parameters\n",
    "\n",
    "n_node_per_feeder = 10\n",
    "n_feeder = 100\n",
    "\n",
    "cable_length_km_min = 0.8\n",
    "cable_length_km_max = 1.2\n",
    "load_p_w_max = 0.4e6 * 0.8\n",
    "load_p_w_min = 0.4e6 * 1.2\n",
    "pf = 0.95\n",
    "\n",
    "load_scaling_min = 0.5\n",
    "load_scaling_max = 1.5\n",
    "n_step = 100\n",
    "n_node = n_node_per_feeder * n_feeder + 1\n",
    "n_line = n_node_per_feeder * n_feeder\n",
    "n_load = n_node_per_feeder * n_feeder"
   ]
  },
  {
   "cell_type": "markdown",
   "id": "aab0f11d",
   "metadata": {},
   "source": [
    "# Pre-cache Library\n"
   ]
  },
  {
   "cell_type": "code",
   "execution_count": 4,
   "id": "cc656c47",
   "metadata": {},
   "outputs": [],
   "source": [
    "fictional_dataset = generate_fictional_grid(\n",
    "    n_node_per_feeder=3,\n",
    "    n_feeder=2,\n",
    "    cable_length_km_min=cable_length_km_min,\n",
    "    cable_length_km_max=cable_length_km_max,\n",
    "    load_p_w_max=load_p_w_max,\n",
    "    load_p_w_min=load_p_w_min,\n",
    "    pf=pf\n",
    ")\n",
    "\n",
    "pp.runpp(fictional_dataset['pp_net'], algorithm='nr', calculate_voltage_angles=True, distributed_slack=True)\n",
    "pgm_model = pgm.PowerGridModel(fictional_dataset['pgm_dataset'])\n",
    "pgm_result = pgm_model.calculate_power_flow()"
   ]
  },
  {
   "cell_type": "markdown",
   "id": "9ca1e1b7",
   "metadata": {},
   "source": [
    "# Single Calculation"
   ]
  },
  {
   "cell_type": "code",
   "execution_count": 5,
   "id": "7909cdd9",
   "metadata": {},
   "outputs": [],
   "source": [
    "fictional_dataset = generate_fictional_grid(\n",
    "    n_node_per_feeder=n_node_per_feeder,\n",
    "    n_feeder=n_feeder,\n",
    "    cable_length_km_min=cable_length_km_min,\n",
    "    cable_length_km_max=cable_length_km_max,\n",
    "    load_p_w_max=load_p_w_max,\n",
    "    load_p_w_min=load_p_w_min,\n",
    "    pf=pf\n",
    ")\n",
    "\n",
    "pp_net = fictional_dataset['pp_net']\n",
    "pgm_dataset = fictional_dataset['pgm_dataset']\n"
   ]
  },
  {
   "cell_type": "markdown",
   "id": "681b407b",
   "metadata": {},
   "source": [
    "## Symmetric"
   ]
  },
  {
   "cell_type": "code",
   "execution_count": 6,
   "id": "612d3384",
   "metadata": {},
   "outputs": [],
   "source": [
    "# first calculation with solver initialization\n",
    "pgm_model = pgm.PowerGridModel(pgm_dataset)\n",
    "start = time.time()\n",
    "pgm_result = pgm_model.calculate_power_flow(calculation_method='linear')\n",
    "end = time.time()\n",
    "summary_df.loc['Symmetric calculation with solver initialization', 'PGM Linear'] = end - start\n",
    "\n",
    "# second calculation with existing solver\n",
    "start = time.time()\n",
    "pgm_result = pgm_model.calculate_power_flow(calculation_method='linear')\n",
    "end = time.time()\n",
    "summary_df.loc['Symmetric calculation without solver initialization', 'PGM Linear'] = end - start"
   ]
  },
  {
   "cell_type": "code",
   "execution_count": 7,
   "id": "7f335ff4",
   "metadata": {},
   "outputs": [],
   "source": [
    "# first calculation with solver initialization\n",
    "pgm_model = pgm.PowerGridModel(pgm_dataset)\n",
    "start = time.time()\n",
    "pgm_result = pgm_model.calculate_power_flow()\n",
    "end = time.time()\n",
    "summary_df.loc['Symmetric calculation with solver initialization', 'PGM NR'] = end - start\n",
    "\n",
    "# second calculation with existing solver\n",
    "start = time.time()\n",
    "pgm_result = pgm_model.calculate_power_flow()\n",
    "end = time.time()\n",
    "summary_df.loc['Symmetric calculation without solver initialization', 'PGM NR'] = end - start\n"
   ]
  },
  {
   "cell_type": "code",
   "execution_count": 8,
   "id": "75a86adc",
   "metadata": {},
   "outputs": [],
   "source": [
    "# first calculation with solver initialization\n",
    "start = time.time()\n",
    "pp.runpp(pp_net, algorithm='nr', calculate_voltage_angles=True, distributed_slack=True)\n",
    "end = time.time()\n",
    "summary_df.loc['Symmetric calculation with solver initialization', 'PandaPower NR'] = end - start\n",
    "\n",
    "# second calculation with existing solver\n",
    "start = time.time()\n",
    "pp.runpp(pp_net, algorithm='nr', calculate_voltage_angles=True, distributed_slack=True)\n",
    "end = time.time()\n",
    "summary_df.loc['Symmetric calculation without solver initialization', 'PandaPower NR'] = end - start"
   ]
  },
  {
   "cell_type": "code",
   "execution_count": 9,
   "id": "f532a8ed",
   "metadata": {},
   "outputs": [
    {
     "data": {
      "text/plain": [
       "2.3988731663537877e-05"
      ]
     },
     "execution_count": 9,
     "metadata": {},
     "output_type": "execute_result"
    }
   ],
   "source": [
    "np.abs(pp_net.res_bus['vm_pu'] - pgm_result['node']['u_pu']).max()"
   ]
  },
  {
   "cell_type": "code",
   "execution_count": 10,
   "id": "0e3a9954",
   "metadata": {},
   "outputs": [
    {
     "data": {
      "text/plain": [
       "0.0002488719126692851"
      ]
     },
     "execution_count": 10,
     "metadata": {},
     "output_type": "execute_result"
    }
   ],
   "source": [
    "np.abs(pp_net.res_line['loading_percent'] * 1e-2 - pgm_result['line']['loading']).max()"
   ]
  },
  {
   "cell_type": "markdown",
   "id": "4e07f6c0",
   "metadata": {},
   "source": [
    "## Asymmetric"
   ]
  },
  {
   "cell_type": "code",
   "execution_count": 11,
   "id": "c76f1366",
   "metadata": {},
   "outputs": [],
   "source": [
    "# first calculation with solver initialization\n",
    "pgm_model = pgm.PowerGridModel(pgm_dataset)\n",
    "start = time.time()\n",
    "pgm_result = pgm_model.calculate_power_flow(symmetric=False, calculation_method='linear')\n",
    "end = time.time()\n",
    "summary_df.loc['Asymmetric calculation with solver initialization', 'PGM Linear'] = end - start\n",
    "\n",
    "# second calculation with existing solver\n",
    "start = time.time()\n",
    "pgm_result = pgm_model.calculate_power_flow(symmetric=False, calculation_method='linear')\n",
    "end = time.time()\n",
    "summary_df.loc['Asymmetric calculation without solver initialization', 'PGM Linear'] = end - start"
   ]
  },
  {
   "cell_type": "code",
   "execution_count": 12,
   "id": "2ce9f63c",
   "metadata": {},
   "outputs": [],
   "source": [
    "# first calculation with solver initialization\n",
    "pgm_model = pgm.PowerGridModel(pgm_dataset)\n",
    "start = time.time()\n",
    "pgm_result = pgm_model.calculate_power_flow(symmetric=False)\n",
    "end = time.time()\n",
    "summary_df.loc['Asymmetric calculation with solver initialization', 'PGM NR'] = end - start\n",
    "\n",
    "# second calculation with existing solver\n",
    "start = time.time()\n",
    "pgm_result = pgm_model.calculate_power_flow(symmetric=False)\n",
    "end = time.time()\n",
    "summary_df.loc['Asymmetric calculation without solver initialization', 'PGM NR'] = end - start"
   ]
  },
  {
   "cell_type": "code",
   "execution_count": 13,
   "id": "5357e649",
   "metadata": {},
   "outputs": [],
   "source": [
    "pp_net.load[['p_mw', 'q_mvar']] = 0.0\n",
    "\n",
    "\n",
    "# first calculation with solver initialization\n",
    "start = time.time()\n",
    "pp.runpp_3ph(pp_net, algorithm='nr', calculate_voltage_angles=True, distributed_slack=True)\n",
    "end = time.time()\n",
    "summary_df.loc['Asymmetric calculation with solver initialization', 'PandaPower NR'] = end - start\n",
    "\n",
    "# second calculation with existing solver\n",
    "start = time.time()\n",
    "pp.runpp_3ph(pp_net, algorithm='nr', calculate_voltage_angles=True, distributed_slack=True)\n",
    "end = time.time()\n",
    "summary_df.loc['Asymmetric calculation without solver initialization', 'PandaPower NR'] = end - start\n"
   ]
  },
  {
   "cell_type": "code",
   "execution_count": 14,
   "id": "840e9f29",
   "metadata": {},
   "outputs": [
    {
     "data": {
      "text/plain": [
       "5.79704284575655e-10"
      ]
     },
     "execution_count": 14,
     "metadata": {},
     "output_type": "execute_result"
    }
   ],
   "source": [
    "np.abs(pp_net.res_bus_3ph[['vm_a_pu', 'vm_b_pu', 'vm_c_pu']].to_numpy() - pgm_result['node']['u_pu']).max()"
   ]
  },
  {
   "cell_type": "code",
   "execution_count": 15,
   "id": "0ffab092",
   "metadata": {},
   "outputs": [
    {
     "data": {
      "text/plain": [
       "8.192209383084403e-09"
      ]
     },
     "execution_count": 15,
     "metadata": {},
     "output_type": "execute_result"
    }
   ],
   "source": [
    "np.abs(pp_net.res_line_3ph['loading_percent'] * 1e-2 - pgm_result['line']['loading']).max()"
   ]
  },
  {
   "cell_type": "markdown",
   "id": "bd10ecd4",
   "metadata": {},
   "source": [
    "# Time Series Calculation"
   ]
  },
  {
   "cell_type": "code",
   "execution_count": 16,
   "id": "ab571db2",
   "metadata": {},
   "outputs": [],
   "source": [
    "time_series_dataset = generate_time_series(\n",
    "    fictional_dataset,\n",
    "    n_step=n_step,\n",
    "    load_scaling_min=load_scaling_min,\n",
    "    load_scaling_max=load_scaling_max\n",
    ")\n",
    "\n",
    "pgm_update_dataset = time_series_dataset['pgm_update_dataset']\n",
    "pp_dataset = time_series_dataset['pp_dataset']\n",
    "time_steps = np.arange(n_step)"
   ]
  },
  {
   "cell_type": "markdown",
   "id": "c0c68b83",
   "metadata": {},
   "source": [
    "## Symmetric"
   ]
  },
  {
   "cell_type": "code",
   "execution_count": 17,
   "id": "bae29ebf",
   "metadata": {},
   "outputs": [],
   "source": [
    "start = time.time()\n",
    "pgm_result = pgm_model.calculate_power_flow(calculation_method='linear', update_data=pgm_update_dataset)\n",
    "end = time.time()\n",
    "summary_df.loc['Time series symmetric calculation', 'PGM Linear'] = end - start"
   ]
  },
  {
   "cell_type": "code",
   "execution_count": 18,
   "id": "b4257bd3",
   "metadata": {},
   "outputs": [],
   "source": [
    "start = time.time()\n",
    "pgm_result = pgm_model.calculate_power_flow(update_data=pgm_update_dataset)\n",
    "end = time.time()\n",
    "summary_df.loc['Time series symmetric calculation', 'PGM NR'] = end - start"
   ]
  },
  {
   "cell_type": "code",
   "execution_count": 19,
   "id": "b943bdee",
   "metadata": {},
   "outputs": [
    {
     "name": "stderr",
     "output_type": "stream",
     "text": [
      "C:\\Users\\EBA00350\\Miniconda3\\envs\\dnr\\lib\\site-packages\\pandapower\\control\\util\\auxiliary.py:130: FutureWarning: Index.__and__ operating as a set operation is deprecated, in the future this will be a logical operation matching Series.__and__.  Use index.intersection(other) instead\n",
      "  idx &= net.controller.index[net.controller[df_key] == parameters[df_key]]\n",
      "recycle is set to True, but internal variables are missing\n"
     ]
    },
    {
     "name": "stdout",
     "output_type": "stream",
     "text": [
      "Progress: |██████████████████████████████████████████████████| 100.0% Complete\n",
      "\n"
     ]
    }
   ],
   "source": [
    "_ = pp.control.ConstControl(\n",
    "    pp_net, element='load', element_index=pp_net.load.index,\n",
    "    variable='p_mw', data_source=pp_dataset['p_mw'], profile_name=pp_net.load.index)\n",
    "_ = pp.control.ConstControl(\n",
    "    pp_net, element='load', element_index=pp_net.load.index,\n",
    "    variable='q_mvar', data_source=pp_dataset['q_mvar'], profile_name=pp_net.load.index)\n",
    "\n",
    "_ = pp.timeseries.OutputWriter(\n",
    "    pp_net, output_path=output_dir, output_file_type=\".csv\", csv_separator=',',\n",
    "    log_variables=[\n",
    "        ('res_bus', 'vm_pu'),\n",
    "        ('res_line', 'loading_percent'),\n",
    "    ]\n",
    ")\n",
    "\n",
    "start = time.time()\n",
    "pp.timeseries.run_timeseries(\n",
    "    pp_net, run=pp.runpp, time_steps=time_steps,\n",
    "    calculate_voltage_angles=True, distributed_slack=True\n",
    ")\n",
    "end = time.time()\n",
    "summary_df.loc['Time series symmetric calculation', 'PandaPower NR'] = end - start"
   ]
  },
  {
   "cell_type": "code",
   "execution_count": 20,
   "id": "75977fb6",
   "metadata": {},
   "outputs": [
    {
     "data": {
      "text/plain": [
       "2.4175629728562242e-05"
      ]
     },
     "execution_count": 20,
     "metadata": {},
     "output_type": "execute_result"
    }
   ],
   "source": [
    "pp_u_pu = pd.read_csv(output_dir / 'res_bus' / 'vm_pu.csv', index_col=0).to_numpy()\n",
    "np.abs(pp_u_pu - pgm_result['node']['u_pu']).max()"
   ]
  },
  {
   "cell_type": "code",
   "execution_count": 21,
   "id": "f6f6bf51",
   "metadata": {},
   "outputs": [
    {
     "data": {
      "text/plain": [
       "0.00024974965605661925"
      ]
     },
     "execution_count": 21,
     "metadata": {},
     "output_type": "execute_result"
    }
   ],
   "source": [
    "pp_loading = pd.read_csv(output_dir / 'res_line' / 'loading_percent.csv', index_col=0).to_numpy() * 1e-2\n",
    "np.abs(pp_loading - pgm_result['line']['loading']).max()\n"
   ]
  },
  {
   "cell_type": "markdown",
   "id": "b9bff694",
   "metadata": {},
   "source": [
    "## Asymmetric"
   ]
  },
  {
   "cell_type": "code",
   "execution_count": 22,
   "id": "4735161f",
   "metadata": {},
   "outputs": [],
   "source": [
    "start = time.time()\n",
    "pgm_result = pgm_model.calculate_power_flow(symmetric=False, calculation_method='linear', update_data=pgm_update_dataset)\n",
    "end = time.time()\n",
    "summary_df.loc['Time series asymmetric calculation', 'PGM Linear'] = end - start"
   ]
  },
  {
   "cell_type": "code",
   "execution_count": 23,
   "id": "cc337c14",
   "metadata": {},
   "outputs": [],
   "source": [
    "start = time.time()\n",
    "pgm_result = pgm_model.calculate_power_flow(symmetric=False, update_data=pgm_update_dataset)\n",
    "end = time.time()\n",
    "summary_df.loc['Time series asymmetric calculation', 'PGM NR'] = end - start"
   ]
  },
  {
   "cell_type": "code",
   "execution_count": 24,
   "id": "d1b2d792",
   "metadata": {},
   "outputs": [
    {
     "name": "stdout",
     "output_type": "stream",
     "text": [
      "\r",
      "Progress: |--------------------------------------------------| 0.0% Complete\r",
      "Progress: |--------------------------------------------------| 1.0% Complete"
     ]
    },
    {
     "name": "stderr",
     "output_type": "stream",
     "text": [
      "C:\\Users\\EBA00350\\Miniconda3\\envs\\dnr\\lib\\site-packages\\pandapower\\control\\util\\auxiliary.py:130: FutureWarning: Index.__and__ operating as a set operation is deprecated, in the future this will be a logical operation matching Series.__and__.  Use index.intersection(other) instead\n",
      "  idx &= net.controller.index[net.controller[df_key] == parameters[df_key]]\n"
     ]
    },
    {
     "name": "stdout",
     "output_type": "stream",
     "text": [
      "Progress: |██████████████████████████████████████████████████| 100.0% Complete\n",
      "\n"
     ]
    }
   ],
   "source": [
    "# set symmetric load to zero\n",
    "pp_net.load[['p_mw', 'q_mvar']] = 0.0\n",
    "\n",
    "# remove old controller and writer\n",
    "pp_net.controller.drop(pp_net.controller.index, inplace=True)\n",
    "del pp_net.output_writer\n",
    "\n",
    "# define new controller\n",
    "for x, y in zip(['p', 'q'], ['mw', 'mvar']):\n",
    "    for p in ['a', 'b', 'c']:\n",
    "        name = f'{x}_{p}_{y}'\n",
    "        _ = pp.control.ConstControl(\n",
    "            pp_net, element='asymmetric_load', \n",
    "            element_index=pp_net.load.index, variable=name, \n",
    "            data_source=pp_dataset[name], profile_name=pp_net.load.index)\n",
    "\n",
    "ow = pp.timeseries.OutputWriter(\n",
    "    pp_net, output_path=output_dir, output_file_type=\".csv\", csv_separator=',')\n",
    "ow.log_variable('res_bus_3ph', 'vm_a_pu', index=pp_net.bus.index)   \n",
    "ow.log_variable('res_bus_3ph', 'vm_b_pu', index=pp_net.bus.index)  \n",
    "ow.log_variable('res_bus_3ph', 'vm_c_pu', index=pp_net.bus.index)  \n",
    "ow.log_variable('res_line_3ph', 'loading_percent', index=pp_net.line.index)  \n",
    "\n",
    "\n",
    "# run\n",
    "start = time.time()\n",
    "pp.timeseries.run_timeseries(\n",
    "    pp_net, run=pp.runpp_3ph, time_steps=time_steps,\n",
    "    calculate_voltage_angles=True, distributed_slack=True\n",
    ")\n",
    "end = time.time()\n",
    "summary_df.loc['Time series asymmetric calculation', 'PandaPower NR'] = end - start"
   ]
  },
  {
   "cell_type": "code",
   "execution_count": 25,
   "id": "1a7f075f",
   "metadata": {},
   "outputs": [
    {
     "data": {
      "text/plain": [
       "4.927074304106327e-10"
      ]
     },
     "execution_count": 25,
     "metadata": {},
     "output_type": "execute_result"
    }
   ],
   "source": [
    "pp_u_pu = []\n",
    "for p in ['a', 'b', 'c']:\n",
    "    pp_u_pu.append(pd.read_csv(output_dir / 'res_bus_3ph' / f'vm_{p}_pu.csv', index_col=0).to_numpy())\n",
    "pp_u_pu = np.stack(pp_u_pu, axis=-1)\n",
    "np.abs(pp_u_pu - pgm_result['node']['u_pu']).max()"
   ]
  },
  {
   "cell_type": "code",
   "execution_count": 26,
   "id": "92ea7fe4",
   "metadata": {},
   "outputs": [
    {
     "data": {
      "text/plain": [
       "2.4359980699273365e-09"
      ]
     },
     "execution_count": 26,
     "metadata": {},
     "output_type": "execute_result"
    }
   ],
   "source": [
    "pp_loading = pd.read_csv(output_dir / 'res_line_3ph' / 'loading_percent.csv', index_col=0).to_numpy() * 1e-2\n",
    "np.abs(pp_loading - pgm_result['line']['loading']).max()"
   ]
  },
  {
   "cell_type": "markdown",
   "id": "ff983dfb",
   "metadata": {},
   "source": [
    "# Summary of Performace"
   ]
  },
  {
   "cell_type": "code",
   "execution_count": 27,
   "id": "4f897355",
   "metadata": {},
   "outputs": [
    {
     "data": {
      "text/html": [
       "<div>\n",
       "<style scoped>\n",
       "    .dataframe tbody tr th:only-of-type {\n",
       "        vertical-align: middle;\n",
       "    }\n",
       "\n",
       "    .dataframe tbody tr th {\n",
       "        vertical-align: top;\n",
       "    }\n",
       "\n",
       "    .dataframe thead th {\n",
       "        text-align: right;\n",
       "    }\n",
       "</style>\n",
       "<table border=\"1\" class=\"dataframe\">\n",
       "  <thead>\n",
       "    <tr style=\"text-align: right;\">\n",
       "      <th></th>\n",
       "      <th>PGM Linear</th>\n",
       "      <th>PGM NR</th>\n",
       "      <th>PandaPower NR</th>\n",
       "    </tr>\n",
       "  </thead>\n",
       "  <tbody>\n",
       "    <tr>\n",
       "      <th>Symmetric calculation with solver initialization</th>\n",
       "      <td>0.002994</td>\n",
       "      <td>0.005024</td>\n",
       "      <td>0.031014</td>\n",
       "    </tr>\n",
       "    <tr>\n",
       "      <th>Symmetric calculation without solver initialization</th>\n",
       "      <td>0.002002</td>\n",
       "      <td>0.005025</td>\n",
       "      <td>0.019004</td>\n",
       "    </tr>\n",
       "    <tr>\n",
       "      <th>Asymmetric calculation with solver initialization</th>\n",
       "      <td>0.006992</td>\n",
       "      <td>0.025000</td>\n",
       "      <td>0.154083</td>\n",
       "    </tr>\n",
       "    <tr>\n",
       "      <th>Asymmetric calculation without solver initialization</th>\n",
       "      <td>0.004000</td>\n",
       "      <td>0.026001</td>\n",
       "      <td>0.132935</td>\n",
       "    </tr>\n",
       "    <tr>\n",
       "      <th>Time series symmetric calculation</th>\n",
       "      <td>0.122367</td>\n",
       "      <td>0.459282</td>\n",
       "      <td>2.266740</td>\n",
       "    </tr>\n",
       "    <tr>\n",
       "      <th>Time series asymmetric calculation</th>\n",
       "      <td>0.317986</td>\n",
       "      <td>2.114163</td>\n",
       "      <td>17.311900</td>\n",
       "    </tr>\n",
       "    <tr>\n",
       "      <th>N-1 symmetric calculation</th>\n",
       "      <td>0.000000</td>\n",
       "      <td>0.000000</td>\n",
       "      <td>0.000000</td>\n",
       "    </tr>\n",
       "    <tr>\n",
       "      <th>N-1 asymmetric calculation</th>\n",
       "      <td>0.000000</td>\n",
       "      <td>0.000000</td>\n",
       "      <td>0.000000</td>\n",
       "    </tr>\n",
       "  </tbody>\n",
       "</table>\n",
       "</div>"
      ],
      "text/plain": [
       "                                                    PGM Linear    PGM NR  \\\n",
       "Symmetric calculation with solver initialization      0.002994  0.005024   \n",
       "Symmetric calculation without solver initializa...    0.002002  0.005025   \n",
       "Asymmetric calculation with solver initialization     0.006992  0.025000   \n",
       "Asymmetric calculation without solver initializ...    0.004000  0.026001   \n",
       "Time series symmetric calculation                     0.122367  0.459282   \n",
       "Time series asymmetric calculation                    0.317986  2.114163   \n",
       "N-1 symmetric calculation                             0.000000  0.000000   \n",
       "N-1 asymmetric calculation                            0.000000  0.000000   \n",
       "\n",
       "                                                    PandaPower NR  \n",
       "Symmetric calculation with solver initialization         0.031014  \n",
       "Symmetric calculation without solver initializa...       0.019004  \n",
       "Asymmetric calculation with solver initialization        0.154083  \n",
       "Asymmetric calculation without solver initializ...       0.132935  \n",
       "Time series symmetric calculation                        2.266740  \n",
       "Time series asymmetric calculation                      17.311900  \n",
       "N-1 symmetric calculation                                0.000000  \n",
       "N-1 asymmetric calculation                               0.000000  "
      ]
     },
     "execution_count": 27,
     "metadata": {},
     "output_type": "execute_result"
    }
   ],
   "source": [
    "summary_df"
   ]
  },
  {
   "cell_type": "code",
   "execution_count": 28,
   "id": "0830e357",
   "metadata": {},
   "outputs": [
    {
     "data": {
      "text/plain": [
       "This pandapower network includes the following parameter tables:\n",
       "   - bus (1001 elements)\n",
       "   - load (1000 elements)\n",
       "   - asymmetric_load (1000 elements)\n",
       "   - ext_grid (1 element)\n",
       "   - line (1000 elements)\n",
       "   - controller (6 elements)\n",
       "   - output_writer (1 element)\n",
       " and the following results tables:\n",
       "   - res_bus (1001 elements)\n",
       "   - res_line (1000 elements)\n",
       "   - res_ext_grid (1 element)\n",
       "   - res_load (1000 elements)\n",
       "   - res_bus_3ph (1001 elements)\n",
       "   - res_line_3ph (1000 elements)\n",
       "   - res_ext_grid_3ph (1 element)\n",
       "   - res_load_3ph (1000 elements)\n",
       "   - res_asymmetric_load_3ph (1000 elements)"
      ]
     },
     "execution_count": 28,
     "metadata": {},
     "output_type": "execute_result"
    }
   ],
   "source": [
    "pp_net"
   ]
  },
  {
   "cell_type": "code",
   "execution_count": null,
   "id": "6c921324",
   "metadata": {},
   "outputs": [],
   "source": []
  }
 ],
 "metadata": {
  "kernelspec": {
   "display_name": "Python 3",
   "language": "python",
   "name": "python3"
  },
  "language_info": {
   "codemirror_mode": {
    "name": "ipython",
    "version": 3
   },
   "file_extension": ".py",
   "mimetype": "text/x-python",
   "name": "python",
   "nbconvert_exporter": "python",
   "pygments_lexer": "ipython3",
   "version": "3.9.7"
  }
 },
 "nbformat": 4,
 "nbformat_minor": 5
}
