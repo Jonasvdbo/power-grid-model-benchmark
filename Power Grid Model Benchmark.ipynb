{
 "cells": [
  {
   "cell_type": "markdown",
   "id": "cd7b594e",
   "metadata": {},
   "source": [
    "# Introduction\n"
   ]
  },
  {
   "cell_type": "code",
   "execution_count": 1,
   "id": "0267ac98",
   "metadata": {},
   "outputs": [],
   "source": [
    "import numpy as np\n",
    "import pandas as pd\n",
    "import pandapower as pp\n",
    "import power_grid_model as pgm\n",
    "from generate_fictional_dataset import generate_fictional_grid\n",
    "import time"
   ]
  },
  {
   "cell_type": "code",
   "execution_count": 2,
   "id": "ece0138d",
   "metadata": {},
   "outputs": [],
   "source": [
    "# fictional grid parameters\n",
    "\n",
    "n_node_per_feeder = 3\n",
    "n_feeder_small = 100\n",
    "n_feeder_big = 2\n",
    "\n",
    "cable_length_km_min = 0.8\n",
    "cable_length_km_max = 1.2\n",
    "load_p_w_max = 0.4e6 * 0.8\n",
    "load_p_w_min = 0.4e6 * 1.2\n",
    "pf = 0.95\n"
   ]
  },
  {
   "cell_type": "markdown",
   "id": "9ca1e1b7",
   "metadata": {},
   "source": [
    "# Big Network"
   ]
  },
  {
   "cell_type": "code",
   "execution_count": 3,
   "id": "76f09a56",
   "metadata": {},
   "outputs": [],
   "source": [
    "fictional_dataset = generate_fictional_grid(\n",
    "    n_node_per_feeder=n_node_per_feeder,\n",
    "    n_feeder=n_feeder_big,\n",
    "    cable_length_km_min=cable_length_km_min,\n",
    "    cable_length_km_max=cable_length_km_max,\n",
    "    load_p_w_max=load_p_w_max,\n",
    "    load_p_w_min=load_p_w_min,\n",
    "    pf=pf\n",
    ")\n",
    "\n",
    "pp_net = fictional_dataset['pp_net']\n",
    "pgm_dataset = fictional_dataset['pgm_dataset']\n",
    "pgm_model = pgm.PowerGridModel(pgm_dataset)"
   ]
  },
  {
   "cell_type": "markdown",
   "id": "681b407b",
   "metadata": {},
   "source": [
    "## Symmetric"
   ]
  },
  {
   "cell_type": "code",
   "execution_count": 4,
   "id": "7f335ff4",
   "metadata": {},
   "outputs": [
    {
     "name": "stdout",
     "output_type": "stream",
     "text": [
      "Calculation time PGM: 0.111002 seconds\n"
     ]
    }
   ],
   "source": [
    "start = time.time()\n",
    "pgm_result = pgm_model.calculate_power_flow()\n",
    "end = time.time()\n",
    "print(f'Calculation time PGM: {end - start:4f} seconds')"
   ]
  },
  {
   "cell_type": "code",
   "execution_count": 5,
   "id": "75a86adc",
   "metadata": {},
   "outputs": [
    {
     "name": "stdout",
     "output_type": "stream",
     "text": [
      "Calculation time PandaPoewr: 2.436998 seconds\n"
     ]
    }
   ],
   "source": [
    "start = time.time()\n",
    "pp.runpp(pp_net, algorithm='nr', calculate_voltage_angles=True, distributed_slack=True)\n",
    "end = time.time()\n",
    "print(f'Calculation time PandaPoewr: {end - start:4f} seconds')"
   ]
  },
  {
   "cell_type": "code",
   "execution_count": 6,
   "id": "f532a8ed",
   "metadata": {},
   "outputs": [
    {
     "data": {
      "text/plain": [
       "2.25409993093173e-06"
      ]
     },
     "execution_count": 6,
     "metadata": {},
     "output_type": "execute_result"
    }
   ],
   "source": [
    "np.abs(pp_net.res_bus['vm_pu'] - pgm_result['node']['u_pu']).max()"
   ]
  },
  {
   "cell_type": "code",
   "execution_count": 7,
   "id": "0e3a9954",
   "metadata": {},
   "outputs": [
    {
     "data": {
      "text/plain": [
       "6.637896740489813e-05"
      ]
     },
     "execution_count": 7,
     "metadata": {},
     "output_type": "execute_result"
    }
   ],
   "source": [
    "np.abs(pp_net.res_line['loading_percent'] * 1e-2 - pgm_result['line']['loading']).max()"
   ]
  },
  {
   "cell_type": "markdown",
   "id": "4e07f6c0",
   "metadata": {},
   "source": [
    "## Asymmetric"
   ]
  },
  {
   "cell_type": "code",
   "execution_count": 31,
   "id": "c76f1366",
   "metadata": {},
   "outputs": [
    {
     "name": "stdout",
     "output_type": "stream",
     "text": [
      "Calculation time PGM: 0.000971 seconds\n"
     ]
    }
   ],
   "source": [
    "start = time.time()\n",
    "pgm_result = pgm_model.calculate_power_flow(symmetric=False)\n",
    "end = time.time()\n",
    "print(f'Calculation time PGM: {end - start:4f} seconds')"
   ]
  },
  {
   "cell_type": "code",
   "execution_count": 9,
   "id": "5357e649",
   "metadata": {},
   "outputs": [
    {
     "name": "stdout",
     "output_type": "stream",
     "text": [
      "Calculation time PandaPoewr: 0.120029 seconds\n"
     ]
    }
   ],
   "source": [
    "start = time.time()\n",
    "pp.pf.runpp_3ph.runpp_3ph(pp_net, algorithm='nr', calculate_voltage_angles=True, distributed_slack=True)\n",
    "end = time.time()\n",
    "print(f'Calculation time PandaPoewr: {end - start:4f} seconds')"
   ]
  },
  {
   "cell_type": "code",
   "execution_count": 10,
   "id": "18a9547b",
   "metadata": {},
   "outputs": [
    {
     "data": {
      "text/html": [
       "<div>\n",
       "<style scoped>\n",
       "    .dataframe tbody tr th:only-of-type {\n",
       "        vertical-align: middle;\n",
       "    }\n",
       "\n",
       "    .dataframe tbody tr th {\n",
       "        vertical-align: top;\n",
       "    }\n",
       "\n",
       "    .dataframe thead th {\n",
       "        text-align: right;\n",
       "    }\n",
       "</style>\n",
       "<table border=\"1\" class=\"dataframe\">\n",
       "  <thead>\n",
       "    <tr style=\"text-align: right;\">\n",
       "      <th></th>\n",
       "      <th>c_nf_per_km</th>\n",
       "      <th>r_ohm_per_km</th>\n",
       "      <th>x_ohm_per_km</th>\n",
       "      <th>c0_nf_per_km</th>\n",
       "      <th>r0_ohm_per_km</th>\n",
       "      <th>x0_ohm_per_km</th>\n",
       "      <th>max_i_ka</th>\n",
       "      <th>name</th>\n",
       "      <th>std_type</th>\n",
       "      <th>from_bus</th>\n",
       "      <th>to_bus</th>\n",
       "      <th>length_km</th>\n",
       "      <th>g_us_per_km</th>\n",
       "      <th>g0_us_per_km</th>\n",
       "      <th>df</th>\n",
       "      <th>parallel</th>\n",
       "      <th>type</th>\n",
       "      <th>in_service</th>\n",
       "    </tr>\n",
       "  </thead>\n",
       "  <tbody>\n",
       "    <tr>\n",
       "      <th>0</th>\n",
       "      <td>400.0</td>\n",
       "      <td>0.063</td>\n",
       "      <td>0.103</td>\n",
       "      <td>660.0</td>\n",
       "      <td>0.156</td>\n",
       "      <td>0.1</td>\n",
       "      <td>1.0</td>\n",
       "      <td>None</td>\n",
       "      <td>630Al</td>\n",
       "      <td>0</td>\n",
       "      <td>1</td>\n",
       "      <td>1.019525</td>\n",
       "      <td>0.0</td>\n",
       "      <td>0.0</td>\n",
       "      <td>1.0</td>\n",
       "      <td>1</td>\n",
       "      <td>NaN</td>\n",
       "      <td>True</td>\n",
       "    </tr>\n",
       "    <tr>\n",
       "      <th>1</th>\n",
       "      <td>400.0</td>\n",
       "      <td>0.063</td>\n",
       "      <td>0.103</td>\n",
       "      <td>660.0</td>\n",
       "      <td>0.156</td>\n",
       "      <td>0.1</td>\n",
       "      <td>1.0</td>\n",
       "      <td>None</td>\n",
       "      <td>630Al</td>\n",
       "      <td>1</td>\n",
       "      <td>2</td>\n",
       "      <td>1.086076</td>\n",
       "      <td>0.0</td>\n",
       "      <td>0.0</td>\n",
       "      <td>1.0</td>\n",
       "      <td>1</td>\n",
       "      <td>NaN</td>\n",
       "      <td>True</td>\n",
       "    </tr>\n",
       "    <tr>\n",
       "      <th>2</th>\n",
       "      <td>400.0</td>\n",
       "      <td>0.063</td>\n",
       "      <td>0.103</td>\n",
       "      <td>660.0</td>\n",
       "      <td>0.156</td>\n",
       "      <td>0.1</td>\n",
       "      <td>1.0</td>\n",
       "      <td>None</td>\n",
       "      <td>630Al</td>\n",
       "      <td>2</td>\n",
       "      <td>3</td>\n",
       "      <td>1.041105</td>\n",
       "      <td>0.0</td>\n",
       "      <td>0.0</td>\n",
       "      <td>1.0</td>\n",
       "      <td>1</td>\n",
       "      <td>NaN</td>\n",
       "      <td>True</td>\n",
       "    </tr>\n",
       "    <tr>\n",
       "      <th>3</th>\n",
       "      <td>400.0</td>\n",
       "      <td>0.063</td>\n",
       "      <td>0.103</td>\n",
       "      <td>660.0</td>\n",
       "      <td>0.156</td>\n",
       "      <td>0.1</td>\n",
       "      <td>1.0</td>\n",
       "      <td>None</td>\n",
       "      <td>630Al</td>\n",
       "      <td>0</td>\n",
       "      <td>4</td>\n",
       "      <td>1.017953</td>\n",
       "      <td>0.0</td>\n",
       "      <td>0.0</td>\n",
       "      <td>1.0</td>\n",
       "      <td>1</td>\n",
       "      <td>NaN</td>\n",
       "      <td>True</td>\n",
       "    </tr>\n",
       "    <tr>\n",
       "      <th>4</th>\n",
       "      <td>400.0</td>\n",
       "      <td>0.063</td>\n",
       "      <td>0.103</td>\n",
       "      <td>660.0</td>\n",
       "      <td>0.156</td>\n",
       "      <td>0.1</td>\n",
       "      <td>1.0</td>\n",
       "      <td>None</td>\n",
       "      <td>630Al</td>\n",
       "      <td>4</td>\n",
       "      <td>5</td>\n",
       "      <td>0.969462</td>\n",
       "      <td>0.0</td>\n",
       "      <td>0.0</td>\n",
       "      <td>1.0</td>\n",
       "      <td>1</td>\n",
       "      <td>NaN</td>\n",
       "      <td>True</td>\n",
       "    </tr>\n",
       "    <tr>\n",
       "      <th>5</th>\n",
       "      <td>400.0</td>\n",
       "      <td>0.063</td>\n",
       "      <td>0.103</td>\n",
       "      <td>660.0</td>\n",
       "      <td>0.156</td>\n",
       "      <td>0.1</td>\n",
       "      <td>1.0</td>\n",
       "      <td>None</td>\n",
       "      <td>630Al</td>\n",
       "      <td>5</td>\n",
       "      <td>6</td>\n",
       "      <td>1.058358</td>\n",
       "      <td>0.0</td>\n",
       "      <td>0.0</td>\n",
       "      <td>1.0</td>\n",
       "      <td>1</td>\n",
       "      <td>NaN</td>\n",
       "      <td>True</td>\n",
       "    </tr>\n",
       "  </tbody>\n",
       "</table>\n",
       "</div>"
      ],
      "text/plain": [
       "   c_nf_per_km  r_ohm_per_km  x_ohm_per_km  c0_nf_per_km  r0_ohm_per_km  \\\n",
       "0        400.0         0.063         0.103         660.0          0.156   \n",
       "1        400.0         0.063         0.103         660.0          0.156   \n",
       "2        400.0         0.063         0.103         660.0          0.156   \n",
       "3        400.0         0.063         0.103         660.0          0.156   \n",
       "4        400.0         0.063         0.103         660.0          0.156   \n",
       "5        400.0         0.063         0.103         660.0          0.156   \n",
       "\n",
       "   x0_ohm_per_km  max_i_ka  name std_type  from_bus  to_bus  length_km  \\\n",
       "0            0.1       1.0  None    630Al         0       1   1.019525   \n",
       "1            0.1       1.0  None    630Al         1       2   1.086076   \n",
       "2            0.1       1.0  None    630Al         2       3   1.041105   \n",
       "3            0.1       1.0  None    630Al         0       4   1.017953   \n",
       "4            0.1       1.0  None    630Al         4       5   0.969462   \n",
       "5            0.1       1.0  None    630Al         5       6   1.058358   \n",
       "\n",
       "   g_us_per_km  g0_us_per_km   df  parallel  type  in_service  \n",
       "0          0.0           0.0  1.0         1   NaN        True  \n",
       "1          0.0           0.0  1.0         1   NaN        True  \n",
       "2          0.0           0.0  1.0         1   NaN        True  \n",
       "3          0.0           0.0  1.0         1   NaN        True  \n",
       "4          0.0           0.0  1.0         1   NaN        True  \n",
       "5          0.0           0.0  1.0         1   NaN        True  "
      ]
     },
     "execution_count": 10,
     "metadata": {},
     "output_type": "execute_result"
    }
   ],
   "source": [
    "pp_net.line"
   ]
  },
  {
   "cell_type": "code",
   "execution_count": 11,
   "id": "65dda92f",
   "metadata": {},
   "outputs": [
    {
     "data": {
      "text/plain": [
       "This pandapower network includes the following parameter tables:\n",
       "   - bus (7 elements)\n",
       "   - load (6 elements)\n",
       "   - asymmetric_load (6 elements)\n",
       "   - ext_grid (1 element)\n",
       "   - line (6 elements)\n",
       " and the following results tables:\n",
       "   - res_bus (7 elements)\n",
       "   - res_line (6 elements)\n",
       "   - res_ext_grid (1 element)\n",
       "   - res_load (6 elements)\n",
       "   - res_bus_3ph (7 elements)\n",
       "   - res_line_3ph (6 elements)\n",
       "   - res_ext_grid_3ph (1 element)\n",
       "   - res_load_3ph (6 elements)\n",
       "   - res_asymmetric_load_3ph (6 elements)"
      ]
     },
     "execution_count": 11,
     "metadata": {},
     "output_type": "execute_result"
    }
   ],
   "source": [
    "pp_net"
   ]
  },
  {
   "cell_type": "code",
   "execution_count": 18,
   "id": "840e9f29",
   "metadata": {},
   "outputs": [
    {
     "data": {
      "text/plain": [
       "0.0022608115779538807"
      ]
     },
     "execution_count": 18,
     "metadata": {},
     "output_type": "execute_result"
    }
   ],
   "source": [
    "np.abs(pp_net.res_bus_3ph[['vm_a_pu', 'vm_b_pu', 'vm_c_pu']].to_numpy() - pgm_result['node']['u_pu']).max()"
   ]
  },
  {
   "cell_type": "code",
   "execution_count": 20,
   "id": "0ffab092",
   "metadata": {},
   "outputs": [
    {
     "data": {
      "text/plain": [
       "0.06651633565380488"
      ]
     },
     "execution_count": 20,
     "metadata": {},
     "output_type": "execute_result"
    }
   ],
   "source": [
    "np.abs(pp_net.res_line_3ph['loading_percent'] * 1e-2 - pgm_result['line']['loading']).max()"
   ]
  },
  {
   "cell_type": "code",
   "execution_count": 27,
   "id": "3ab29d5d",
   "metadata": {},
   "outputs": [
    {
     "data": {
      "text/html": [
       "<div>\n",
       "<style scoped>\n",
       "    .dataframe tbody tr th:only-of-type {\n",
       "        vertical-align: middle;\n",
       "    }\n",
       "\n",
       "    .dataframe tbody tr th {\n",
       "        vertical-align: top;\n",
       "    }\n",
       "\n",
       "    .dataframe thead th {\n",
       "        text-align: right;\n",
       "    }\n",
       "</style>\n",
       "<table border=\"1\" class=\"dataframe\">\n",
       "  <thead>\n",
       "    <tr style=\"text-align: right;\">\n",
       "      <th></th>\n",
       "      <th>p_a_from_mw</th>\n",
       "      <th>q_a_from_mvar</th>\n",
       "      <th>p_b_from_mw</th>\n",
       "      <th>q_b_from_mvar</th>\n",
       "      <th>q_c_from_mvar</th>\n",
       "      <th>p_a_to_mw</th>\n",
       "      <th>q_a_to_mvar</th>\n",
       "      <th>p_b_to_mw</th>\n",
       "      <th>q_b_to_mvar</th>\n",
       "      <th>p_c_to_mw</th>\n",
       "      <th>...</th>\n",
       "      <th>i_b_ka</th>\n",
       "      <th>i_c_ka</th>\n",
       "      <th>i_n_from_ka</th>\n",
       "      <th>i_n_to_ka</th>\n",
       "      <th>i_n_ka</th>\n",
       "      <th>loading_a_percent</th>\n",
       "      <th>loading_b_percent</th>\n",
       "      <th>loading_c_percent</th>\n",
       "      <th>p_c_from_mw</th>\n",
       "      <th>loading_percent</th>\n",
       "    </tr>\n",
       "  </thead>\n",
       "  <tbody>\n",
       "    <tr>\n",
       "      <th>0</th>\n",
       "      <td>0.788994</td>\n",
       "      <td>0.247438</td>\n",
       "      <td>0.723515</td>\n",
       "      <td>0.225476</td>\n",
       "      <td>0.244307</td>\n",
       "      <td>-0.787767</td>\n",
       "      <td>-0.250144</td>\n",
       "      <td>-0.722551</td>\n",
       "      <td>-0.228524</td>\n",
       "      <td>-0.778552</td>\n",
       "      <td>...</td>\n",
       "      <td>0.125243</td>\n",
       "      <td>0.135022</td>\n",
       "      <td>0.010675</td>\n",
       "      <td>0.010674</td>\n",
       "      <td>0.010675</td>\n",
       "      <td>13.663388</td>\n",
       "      <td>12.524267</td>\n",
       "      <td>13.502217</td>\n",
       "      <td>0.779736</td>\n",
       "      <td>13.663388</td>\n",
       "    </tr>\n",
       "    <tr>\n",
       "      <th>1</th>\n",
       "      <td>0.531869</td>\n",
       "      <td>0.166035</td>\n",
       "      <td>0.490877</td>\n",
       "      <td>0.152376</td>\n",
       "      <td>0.172250</td>\n",
       "      <td>-0.531279</td>\n",
       "      <td>-0.170042</td>\n",
       "      <td>-0.490407</td>\n",
       "      <td>-0.156564</td>\n",
       "      <td>-0.550067</td>\n",
       "      <td>...</td>\n",
       "      <td>0.085191</td>\n",
       "      <td>0.095630</td>\n",
       "      <td>0.009231</td>\n",
       "      <td>0.009231</td>\n",
       "      <td>0.009231</td>\n",
       "      <td>9.235683</td>\n",
       "      <td>8.519147</td>\n",
       "      <td>9.563022</td>\n",
       "      <td>0.550712</td>\n",
       "      <td>9.563022</td>\n",
       "    </tr>\n",
       "    <tr>\n",
       "      <th>2</th>\n",
       "      <td>0.262024</td>\n",
       "      <td>0.081542</td>\n",
       "      <td>0.242927</td>\n",
       "      <td>0.075221</td>\n",
       "      <td>0.090287</td>\n",
       "      <td>-0.261888</td>\n",
       "      <td>-0.086078</td>\n",
       "      <td>-0.242818</td>\n",
       "      <td>-0.079811</td>\n",
       "      <td>-0.288395</td>\n",
       "      <td>...</td>\n",
       "      <td>0.042325</td>\n",
       "      <td>0.050301</td>\n",
       "      <td>0.006925</td>\n",
       "      <td>0.006925</td>\n",
       "      <td>0.006925</td>\n",
       "      <td>4.567475</td>\n",
       "      <td>4.232477</td>\n",
       "      <td>5.030129</td>\n",
       "      <td>0.288570</td>\n",
       "      <td>5.030129</td>\n",
       "    </tr>\n",
       "    <tr>\n",
       "      <th>3</th>\n",
       "      <td>0.773215</td>\n",
       "      <td>0.242279</td>\n",
       "      <td>0.790027</td>\n",
       "      <td>0.248004</td>\n",
       "      <td>0.225832</td>\n",
       "      <td>-0.772057</td>\n",
       "      <td>-0.245136</td>\n",
       "      <td>-0.788796</td>\n",
       "      <td>-0.250705</td>\n",
       "      <td>-0.722580</td>\n",
       "      <td>...</td>\n",
       "      <td>0.136824</td>\n",
       "      <td>0.125265</td>\n",
       "      <td>0.010392</td>\n",
       "      <td>0.010392</td>\n",
       "      <td>0.010392</td>\n",
       "      <td>13.389522</td>\n",
       "      <td>13.682432</td>\n",
       "      <td>12.526492</td>\n",
       "      <td>0.723545</td>\n",
       "      <td>13.682432</td>\n",
       "    </tr>\n",
       "    <tr>\n",
       "      <th>4</th>\n",
       "      <td>0.473415</td>\n",
       "      <td>0.146977</td>\n",
       "      <td>0.486585</td>\n",
       "      <td>0.151373</td>\n",
       "      <td>0.143780</td>\n",
       "      <td>-0.473005</td>\n",
       "      <td>-0.150767</td>\n",
       "      <td>-0.486141</td>\n",
       "      <td>-0.155111</td>\n",
       "      <td>-0.463309</td>\n",
       "      <td>...</td>\n",
       "      <td>0.084461</td>\n",
       "      <td>0.080454</td>\n",
       "      <td>0.003477</td>\n",
       "      <td>0.003477</td>\n",
       "      <td>0.003477</td>\n",
       "      <td>8.215852</td>\n",
       "      <td>8.446148</td>\n",
       "      <td>8.045360</td>\n",
       "      <td>0.463697</td>\n",
       "      <td>8.446148</td>\n",
       "    </tr>\n",
       "    <tr>\n",
       "      <th>5</th>\n",
       "      <td>0.241205</td>\n",
       "      <td>0.074578</td>\n",
       "      <td>0.259241</td>\n",
       "      <td>0.080532</td>\n",
       "      <td>0.074911</td>\n",
       "      <td>-0.241091</td>\n",
       "      <td>-0.079243</td>\n",
       "      <td>-0.259100</td>\n",
       "      <td>-0.085162</td>\n",
       "      <td>-0.242084</td>\n",
       "      <td>...</td>\n",
       "      <td>0.045176</td>\n",
       "      <td>0.042191</td>\n",
       "      <td>0.003072</td>\n",
       "      <td>0.003071</td>\n",
       "      <td>0.003072</td>\n",
       "      <td>4.202600</td>\n",
       "      <td>4.517607</td>\n",
       "      <td>4.219124</td>\n",
       "      <td>0.242201</td>\n",
       "      <td>4.517607</td>\n",
       "    </tr>\n",
       "  </tbody>\n",
       "</table>\n",
       "<p>6 rows × 34 columns</p>\n",
       "</div>"
      ],
      "text/plain": [
       "   p_a_from_mw  q_a_from_mvar  p_b_from_mw  q_b_from_mvar  q_c_from_mvar  \\\n",
       "0     0.788994       0.247438     0.723515       0.225476       0.244307   \n",
       "1     0.531869       0.166035     0.490877       0.152376       0.172250   \n",
       "2     0.262024       0.081542     0.242927       0.075221       0.090287   \n",
       "3     0.773215       0.242279     0.790027       0.248004       0.225832   \n",
       "4     0.473415       0.146977     0.486585       0.151373       0.143780   \n",
       "5     0.241205       0.074578     0.259241       0.080532       0.074911   \n",
       "\n",
       "   p_a_to_mw  q_a_to_mvar  p_b_to_mw  q_b_to_mvar  p_c_to_mw  ...    i_b_ka  \\\n",
       "0  -0.787767    -0.250144  -0.722551    -0.228524  -0.778552  ...  0.125243   \n",
       "1  -0.531279    -0.170042  -0.490407    -0.156564  -0.550067  ...  0.085191   \n",
       "2  -0.261888    -0.086078  -0.242818    -0.079811  -0.288395  ...  0.042325   \n",
       "3  -0.772057    -0.245136  -0.788796    -0.250705  -0.722580  ...  0.136824   \n",
       "4  -0.473005    -0.150767  -0.486141    -0.155111  -0.463309  ...  0.084461   \n",
       "5  -0.241091    -0.079243  -0.259100    -0.085162  -0.242084  ...  0.045176   \n",
       "\n",
       "     i_c_ka  i_n_from_ka  i_n_to_ka    i_n_ka  loading_a_percent  \\\n",
       "0  0.135022     0.010675   0.010674  0.010675          13.663388   \n",
       "1  0.095630     0.009231   0.009231  0.009231           9.235683   \n",
       "2  0.050301     0.006925   0.006925  0.006925           4.567475   \n",
       "3  0.125265     0.010392   0.010392  0.010392          13.389522   \n",
       "4  0.080454     0.003477   0.003477  0.003477           8.215852   \n",
       "5  0.042191     0.003072   0.003071  0.003072           4.202600   \n",
       "\n",
       "   loading_b_percent  loading_c_percent  p_c_from_mw  loading_percent  \n",
       "0          12.524267          13.502217     0.779736        13.663388  \n",
       "1           8.519147           9.563022     0.550712         9.563022  \n",
       "2           4.232477           5.030129     0.288570         5.030129  \n",
       "3          13.682432          12.526492     0.723545        13.682432  \n",
       "4           8.446148           8.045360     0.463697         8.446148  \n",
       "5           4.517607           4.219124     0.242201         4.517607  \n",
       "\n",
       "[6 rows x 34 columns]"
      ]
     },
     "execution_count": 27,
     "metadata": {},
     "output_type": "execute_result"
    }
   ],
   "source": [
    "pp_net.res_line_3ph"
   ]
  },
  {
   "cell_type": "code",
   "execution_count": 28,
   "id": "dfb7c1d9",
   "metadata": {},
   "outputs": [
    {
     "data": {
      "text/plain": [
       "array([[0.40643225, 0.34116415, 0.39714888],\n",
       "       [0.26943986, 0.22852366, 0.28823648],\n",
       "       [0.12973788, 0.11065493, 0.15626438],\n",
       "       [0.391652  , 0.40840001, 0.34209299],\n",
       "       [0.23600246, 0.24914367, 0.22629563],\n",
       "       [0.11740404, 0.13542711, 0.11839894]])"
      ]
     },
     "execution_count": 28,
     "metadata": {},
     "output_type": "execute_result"
    }
   ],
   "source": [
    "pgm_result['line']['p_from'] * 1e-6"
   ]
  },
  {
   "cell_type": "code",
   "execution_count": 30,
   "id": "e6ff15b3",
   "metadata": {},
   "outputs": [
    {
     "data": {
      "text/html": [
       "<div>\n",
       "<style scoped>\n",
       "    .dataframe tbody tr th:only-of-type {\n",
       "        vertical-align: middle;\n",
       "    }\n",
       "\n",
       "    .dataframe tbody tr th {\n",
       "        vertical-align: top;\n",
       "    }\n",
       "\n",
       "    .dataframe thead th {\n",
       "        text-align: right;\n",
       "    }\n",
       "</style>\n",
       "<table border=\"1\" class=\"dataframe\">\n",
       "  <thead>\n",
       "    <tr style=\"text-align: right;\">\n",
       "      <th></th>\n",
       "      <th>p_a_mw</th>\n",
       "      <th>q_a_mvar</th>\n",
       "      <th>p_b_mw</th>\n",
       "      <th>q_b_mvar</th>\n",
       "      <th>p_c_mw</th>\n",
       "      <th>q_c_mvar</th>\n",
       "    </tr>\n",
       "  </thead>\n",
       "  <tbody>\n",
       "    <tr>\n",
       "      <th>0</th>\n",
       "      <td>0.136662</td>\n",
       "      <td>0.044919</td>\n",
       "      <td>0.112439</td>\n",
       "      <td>0.036957</td>\n",
       "      <td>0.108605</td>\n",
       "      <td>0.035697</td>\n",
       "    </tr>\n",
       "    <tr>\n",
       "      <th>1</th>\n",
       "      <td>0.139550</td>\n",
       "      <td>0.045868</td>\n",
       "      <td>0.117775</td>\n",
       "      <td>0.038711</td>\n",
       "      <td>0.131792</td>\n",
       "      <td>0.043318</td>\n",
       "    </tr>\n",
       "    <tr>\n",
       "      <th>2</th>\n",
       "      <td>0.129704</td>\n",
       "      <td>0.042632</td>\n",
       "      <td>0.110635</td>\n",
       "      <td>0.036364</td>\n",
       "      <td>0.156211</td>\n",
       "      <td>0.051344</td>\n",
       "    </tr>\n",
       "    <tr>\n",
       "      <th>3</th>\n",
       "      <td>0.155353</td>\n",
       "      <td>0.051062</td>\n",
       "      <td>0.158922</td>\n",
       "      <td>0.052235</td>\n",
       "      <td>0.115594</td>\n",
       "      <td>0.037994</td>\n",
       "    </tr>\n",
       "    <tr>\n",
       "      <th>4</th>\n",
       "      <td>0.118498</td>\n",
       "      <td>0.038949</td>\n",
       "      <td>0.113599</td>\n",
       "      <td>0.037338</td>\n",
       "      <td>0.107807</td>\n",
       "      <td>0.035434</td>\n",
       "    </tr>\n",
       "    <tr>\n",
       "      <th>5</th>\n",
       "      <td>0.117378</td>\n",
       "      <td>0.038580</td>\n",
       "      <td>0.135388</td>\n",
       "      <td>0.044500</td>\n",
       "      <td>0.118372</td>\n",
       "      <td>0.038907</td>\n",
       "    </tr>\n",
       "  </tbody>\n",
       "</table>\n",
       "</div>"
      ],
      "text/plain": [
       "     p_a_mw  q_a_mvar    p_b_mw  q_b_mvar    p_c_mw  q_c_mvar\n",
       "0  0.136662  0.044919  0.112439  0.036957  0.108605  0.035697\n",
       "1  0.139550  0.045868  0.117775  0.038711  0.131792  0.043318\n",
       "2  0.129704  0.042632  0.110635  0.036364  0.156211  0.051344\n",
       "3  0.155353  0.051062  0.158922  0.052235  0.115594  0.037994\n",
       "4  0.118498  0.038949  0.113599  0.037338  0.107807  0.035434\n",
       "5  0.117378  0.038580  0.135388  0.044500  0.118372  0.038907"
      ]
     },
     "execution_count": 30,
     "metadata": {},
     "output_type": "execute_result"
    }
   ],
   "source": [
    "pp_net.res_asymmetric_load_3ph \n"
   ]
  },
  {
   "cell_type": "code",
   "execution_count": 33,
   "id": "a871e2a6",
   "metadata": {},
   "outputs": [
    {
     "data": {
      "text/plain": [
       "array([[0.13666202, 0.11243877, 0.10860465],\n",
       "       [0.13954979, 0.11777466, 0.13179227],\n",
       "       [0.12970429, 0.11063485, 0.15621141],\n",
       "       [0.1553531 , 0.15892169, 0.11559361],\n",
       "       [0.11849831, 0.11359935, 0.10780702],\n",
       "       [0.11737821, 0.13538777, 0.11837178]])"
      ]
     },
     "execution_count": 33,
     "metadata": {},
     "output_type": "execute_result"
    }
   ],
   "source": [
    "pgm_result['asym_load']['p'] * 1e-6"
   ]
  }
 ],
 "metadata": {
  "kernelspec": {
   "display_name": "Python 3",
   "language": "python",
   "name": "python3"
  },
  "language_info": {
   "codemirror_mode": {
    "name": "ipython",
    "version": 3
   },
   "file_extension": ".py",
   "mimetype": "text/x-python",
   "name": "python",
   "nbconvert_exporter": "python",
   "pygments_lexer": "ipython3",
   "version": "3.9.7"
  }
 },
 "nbformat": 4,
 "nbformat_minor": 5
}
