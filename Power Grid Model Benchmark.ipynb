{
 "cells": [
  {
   "cell_type": "markdown",
   "id": "42549026",
   "metadata": {},
   "source": [
    "# Introduction\n"
   ]
  },
  {
   "cell_type": "code",
   "execution_count": 1,
   "id": "f5a177a8",
   "metadata": {},
   "outputs": [],
   "source": [
    "import numpy as np\n",
    "import pandas as pd\n",
    "import pandapower as pp\n",
    "import power_grid_model as pgm\n",
    "from generate_fictional_dataset import generate_fictional_grid"
   ]
  },
  {
   "cell_type": "code",
   "execution_count": 2,
   "id": "17dcb380",
   "metadata": {},
   "outputs": [],
   "source": [
    "# fictional grid parameters\n",
    "\n",
    "n_node_per_feeder = 3\n",
    "n_feeder_small = 100\n",
    "n_feeder_big = 2\n",
    "\n",
    "cable_length_km_min = 0.8\n",
    "cable_length_km_max = 1.2\n",
    "load_p_w_max = 0.4e6 * 0.8 * 10\n",
    "load_p_w_min = 0.4e6 * 1.2 * 10\n",
    "pf = 0.95\n"
   ]
  },
  {
   "cell_type": "markdown",
   "id": "e835e504",
   "metadata": {},
   "source": [
    "# Big Network"
   ]
  },
  {
   "cell_type": "code",
   "execution_count": 3,
   "id": "f5257e8e",
   "metadata": {},
   "outputs": [],
   "source": [
    "fictional_dataset = generate_fictional_grid(\n",
    "    n_node_per_feeder=n_node_per_feeder,\n",
    "    n_feeder=n_feeder_big,\n",
    "    cable_length_km_min=cable_length_km_min,\n",
    "    cable_length_km_max=cable_length_km_max,\n",
    "    load_p_w_max=load_p_w_max,\n",
    "    load_p_w_min=load_p_w_min,\n",
    "    pf=pf\n",
    ")\n",
    "\n",
    "pp_net = fictional_dataset['pp_net']\n",
    "pgm_dataset = fictional_dataset['pgm_dataset']\n",
    "pgm_model = pgm.PowerGridModel(pgm_dataset)"
   ]
  },
  {
   "cell_type": "code",
   "execution_count": 4,
   "id": "035dfd2e",
   "metadata": {},
   "outputs": [],
   "source": [
    "pgm_result = pgm_model.calculate_power_flow(error_tolerance=1e-8)"
   ]
  },
  {
   "cell_type": "code",
   "execution_count": 5,
   "id": "0816e958",
   "metadata": {},
   "outputs": [
    {
     "data": {
      "text/html": [
       "<div>\n",
       "<style scoped>\n",
       "    .dataframe tbody tr th:only-of-type {\n",
       "        vertical-align: middle;\n",
       "    }\n",
       "\n",
       "    .dataframe tbody tr th {\n",
       "        vertical-align: top;\n",
       "    }\n",
       "\n",
       "    .dataframe thead th {\n",
       "        text-align: right;\n",
       "    }\n",
       "</style>\n",
       "<table border=\"1\" class=\"dataframe\">\n",
       "  <thead>\n",
       "    <tr style=\"text-align: right;\">\n",
       "      <th></th>\n",
       "      <th>id</th>\n",
       "      <th>energized</th>\n",
       "      <th>u_pu</th>\n",
       "      <th>u</th>\n",
       "      <th>u_angle</th>\n",
       "    </tr>\n",
       "  </thead>\n",
       "  <tbody>\n",
       "    <tr>\n",
       "      <th>0</th>\n",
       "      <td>0</td>\n",
       "      <td>1</td>\n",
       "      <td>1.045099</td>\n",
       "      <td>10450.985652</td>\n",
       "      <td>-0.010124</td>\n",
       "    </tr>\n",
       "    <tr>\n",
       "      <th>1</th>\n",
       "      <td>1</td>\n",
       "      <td>1</td>\n",
       "      <td>1.034048</td>\n",
       "      <td>10340.476391</td>\n",
       "      <td>-0.019021</td>\n",
       "    </tr>\n",
       "    <tr>\n",
       "      <th>2</th>\n",
       "      <td>2</td>\n",
       "      <td>1</td>\n",
       "      <td>1.025966</td>\n",
       "      <td>10259.655412</td>\n",
       "      <td>-0.025654</td>\n",
       "    </tr>\n",
       "    <tr>\n",
       "      <th>3</th>\n",
       "      <td>3</td>\n",
       "      <td>1</td>\n",
       "      <td>1.022055</td>\n",
       "      <td>10220.549528</td>\n",
       "      <td>-0.028898</td>\n",
       "    </tr>\n",
       "    <tr>\n",
       "      <th>4</th>\n",
       "      <td>4</td>\n",
       "      <td>1</td>\n",
       "      <td>1.034118</td>\n",
       "      <td>10341.182217</td>\n",
       "      <td>-0.018987</td>\n",
       "    </tr>\n",
       "    <tr>\n",
       "      <th>5</th>\n",
       "      <td>5</td>\n",
       "      <td>1</td>\n",
       "      <td>1.027605</td>\n",
       "      <td>10276.050011</td>\n",
       "      <td>-0.024337</td>\n",
       "    </tr>\n",
       "    <tr>\n",
       "      <th>6</th>\n",
       "      <td>6</td>\n",
       "      <td>1</td>\n",
       "      <td>1.023892</td>\n",
       "      <td>10238.919244</td>\n",
       "      <td>-0.027414</td>\n",
       "    </tr>\n",
       "  </tbody>\n",
       "</table>\n",
       "</div>"
      ],
      "text/plain": [
       "   id  energized      u_pu             u   u_angle\n",
       "0   0          1  1.045099  10450.985652 -0.010124\n",
       "1   1          1  1.034048  10340.476391 -0.019021\n",
       "2   2          1  1.025966  10259.655412 -0.025654\n",
       "3   3          1  1.022055  10220.549528 -0.028898\n",
       "4   4          1  1.034118  10341.182217 -0.018987\n",
       "5   5          1  1.027605  10276.050011 -0.024337\n",
       "6   6          1  1.023892  10238.919244 -0.027414"
      ]
     },
     "execution_count": 5,
     "metadata": {},
     "output_type": "execute_result"
    }
   ],
   "source": [
    "pd.DataFrame(pgm_result['node'])"
   ]
  },
  {
   "cell_type": "code",
   "execution_count": 19,
   "id": "fcaf6196",
   "metadata": {},
   "outputs": [],
   "source": [
    "pp.runpp(pp_net, algorithm='nr', calculate_voltage_angles=True, distributed_slack=True)"
   ]
  },
  {
   "cell_type": "code",
   "execution_count": 20,
   "id": "d8d46668",
   "metadata": {},
   "outputs": [
    {
     "data": {
      "text/plain": [
       "0.004991596381541008"
      ]
     },
     "execution_count": 20,
     "metadata": {},
     "output_type": "execute_result"
    }
   ],
   "source": [
    "np.abs(pp_net.res_bus['vm_pu'] - pgm_result['node']['u_pu']).max()"
   ]
  },
  {
   "cell_type": "code",
   "execution_count": 21,
   "id": "83a0ad6b",
   "metadata": {},
   "outputs": [
    {
     "data": {
      "text/html": [
       "<div>\n",
       "<style scoped>\n",
       "    .dataframe tbody tr th:only-of-type {\n",
       "        vertical-align: middle;\n",
       "    }\n",
       "\n",
       "    .dataframe tbody tr th {\n",
       "        vertical-align: top;\n",
       "    }\n",
       "\n",
       "    .dataframe thead th {\n",
       "        text-align: right;\n",
       "    }\n",
       "</style>\n",
       "<table border=\"1\" class=\"dataframe\">\n",
       "  <thead>\n",
       "    <tr style=\"text-align: right;\">\n",
       "      <th></th>\n",
       "      <th>p_from_mw</th>\n",
       "      <th>q_from_mvar</th>\n",
       "      <th>p_to_mw</th>\n",
       "      <th>q_to_mvar</th>\n",
       "      <th>pl_mw</th>\n",
       "      <th>ql_mvar</th>\n",
       "      <th>i_from_ka</th>\n",
       "      <th>i_to_ka</th>\n",
       "      <th>i_ka</th>\n",
       "      <th>vm_from_pu</th>\n",
       "      <th>va_from_degree</th>\n",
       "      <th>vm_to_pu</th>\n",
       "      <th>va_to_degree</th>\n",
       "      <th>loading_percent</th>\n",
       "    </tr>\n",
       "  </thead>\n",
       "  <tbody>\n",
       "    <tr>\n",
       "      <th>0</th>\n",
       "      <td>11.587582</td>\n",
       "      <td>3.952239</td>\n",
       "      <td>-11.500224</td>\n",
       "      <td>-3.823394</td>\n",
       "      <td>0.087358</td>\n",
       "      <td>0.128845</td>\n",
       "      <td>0.673193</td>\n",
       "      <td>0.673440</td>\n",
       "      <td>0.673440</td>\n",
       "      <td>1.050000</td>\n",
       "      <td>0.000000</td>\n",
       "      <td>1.038992</td>\n",
       "      <td>-0.505517</td>\n",
       "      <td>67.343969</td>\n",
       "    </tr>\n",
       "    <tr>\n",
       "      <th>1</th>\n",
       "      <td>7.919592</td>\n",
       "      <td>2.646498</td>\n",
       "      <td>-7.875374</td>\n",
       "      <td>-2.588824</td>\n",
       "      <td>0.044218</td>\n",
       "      <td>0.057674</td>\n",
       "      <td>0.464000</td>\n",
       "      <td>0.464256</td>\n",
       "      <td>0.464256</td>\n",
       "      <td>1.038992</td>\n",
       "      <td>-0.505517</td>\n",
       "      <td>1.030942</td>\n",
       "      <td>-0.882278</td>\n",
       "      <td>46.425640</td>\n",
       "    </tr>\n",
       "    <tr>\n",
       "      <th>2</th>\n",
       "      <td>3.980316</td>\n",
       "      <td>1.308580</td>\n",
       "      <td>-3.969471</td>\n",
       "      <td>-1.304702</td>\n",
       "      <td>0.010845</td>\n",
       "      <td>0.003878</td>\n",
       "      <td>0.234644</td>\n",
       "      <td>0.234887</td>\n",
       "      <td>0.234887</td>\n",
       "      <td>1.030942</td>\n",
       "      <td>-0.882278</td>\n",
       "      <td>1.027047</td>\n",
       "      <td>-1.066553</td>\n",
       "      <td>23.488662</td>\n",
       "    </tr>\n",
       "    <tr>\n",
       "      <th>3</th>\n",
       "      <td>11.548925</td>\n",
       "      <td>3.922521</td>\n",
       "      <td>-11.462359</td>\n",
       "      <td>-3.794949</td>\n",
       "      <td>0.086566</td>\n",
       "      <td>0.127572</td>\n",
       "      <td>0.670654</td>\n",
       "      <td>0.670900</td>\n",
       "      <td>0.670900</td>\n",
       "      <td>1.050000</td>\n",
       "      <td>0.000000</td>\n",
       "      <td>1.039062</td>\n",
       "      <td>-0.503576</td>\n",
       "      <td>67.089969</td>\n",
       "    </tr>\n",
       "    <tr>\n",
       "      <th>4</th>\n",
       "      <td>7.159376</td>\n",
       "      <td>2.380627</td>\n",
       "      <td>-7.127156</td>\n",
       "      <td>-2.341022</td>\n",
       "      <td>0.032220</td>\n",
       "      <td>0.039606</td>\n",
       "      <td>0.419224</td>\n",
       "      <td>0.419452</td>\n",
       "      <td>0.419452</td>\n",
       "      <td>1.039062</td>\n",
       "      <td>-0.503576</td>\n",
       "      <td>1.032575</td>\n",
       "      <td>-0.807487</td>\n",
       "      <td>41.945215</td>\n",
       "    </tr>\n",
       "    <tr>\n",
       "      <th>5</th>\n",
       "      <td>3.724711</td>\n",
       "      <td>1.222692</td>\n",
       "      <td>-3.715089</td>\n",
       "      <td>-1.221091</td>\n",
       "      <td>0.009622</td>\n",
       "      <td>0.001601</td>\n",
       "      <td>0.219196</td>\n",
       "      <td>0.219443</td>\n",
       "      <td>0.219443</td>\n",
       "      <td>1.032575</td>\n",
       "      <td>-0.807487</td>\n",
       "      <td>1.028876</td>\n",
       "      <td>-0.982243</td>\n",
       "      <td>21.944313</td>\n",
       "    </tr>\n",
       "  </tbody>\n",
       "</table>\n",
       "</div>"
      ],
      "text/plain": [
       "   p_from_mw  q_from_mvar    p_to_mw  q_to_mvar     pl_mw   ql_mvar  \\\n",
       "0  11.587582     3.952239 -11.500224  -3.823394  0.087358  0.128845   \n",
       "1   7.919592     2.646498  -7.875374  -2.588824  0.044218  0.057674   \n",
       "2   3.980316     1.308580  -3.969471  -1.304702  0.010845  0.003878   \n",
       "3  11.548925     3.922521 -11.462359  -3.794949  0.086566  0.127572   \n",
       "4   7.159376     2.380627  -7.127156  -2.341022  0.032220  0.039606   \n",
       "5   3.724711     1.222692  -3.715089  -1.221091  0.009622  0.001601   \n",
       "\n",
       "   i_from_ka   i_to_ka      i_ka  vm_from_pu  va_from_degree  vm_to_pu  \\\n",
       "0   0.673193  0.673440  0.673440    1.050000        0.000000  1.038992   \n",
       "1   0.464000  0.464256  0.464256    1.038992       -0.505517  1.030942   \n",
       "2   0.234644  0.234887  0.234887    1.030942       -0.882278  1.027047   \n",
       "3   0.670654  0.670900  0.670900    1.050000        0.000000  1.039062   \n",
       "4   0.419224  0.419452  0.419452    1.039062       -0.503576  1.032575   \n",
       "5   0.219196  0.219443  0.219443    1.032575       -0.807487  1.028876   \n",
       "\n",
       "   va_to_degree  loading_percent  \n",
       "0     -0.505517        67.343969  \n",
       "1     -0.882278        46.425640  \n",
       "2     -1.066553        23.488662  \n",
       "3     -0.503576        67.089969  \n",
       "4     -0.807487        41.945215  \n",
       "5     -0.982243        21.944313  "
      ]
     },
     "execution_count": 21,
     "metadata": {},
     "output_type": "execute_result"
    }
   ],
   "source": [
    "pp_net.res_line"
   ]
  },
  {
   "cell_type": "code",
   "execution_count": 14,
   "id": "1f8981b0",
   "metadata": {
    "scrolled": true
   },
   "outputs": [
    {
     "data": {
      "text/plain": [
       "0    0.002588\n",
       "1    0.001796\n",
       "2    0.000911\n",
       "3    0.002568\n",
       "4    0.001616\n",
       "5    0.000848\n",
       "Name: loading_percent, dtype: float64"
      ]
     },
     "execution_count": 14,
     "metadata": {},
     "output_type": "execute_result"
    }
   ],
   "source": [
    "np.abs(pp_net.res_line['loading_percent'] * 1e-2  - pgm_result['line']['loading'])"
   ]
  },
  {
   "cell_type": "code",
   "execution_count": 9,
   "id": "3cca21f2",
   "metadata": {},
   "outputs": [
    {
     "data": {
      "text/plain": [
       "0    11.587582\n",
       "1     7.919592\n",
       "2     3.980316\n",
       "3    11.548925\n",
       "4     7.159376\n",
       "5     3.724711\n",
       "Name: p_from_mw, dtype: float64"
      ]
     },
     "execution_count": 9,
     "metadata": {},
     "output_type": "execute_result"
    }
   ],
   "source": [
    "pp_net.res_line['p_from_mw']"
   ]
  },
  {
   "cell_type": "code",
   "execution_count": 10,
   "id": "77c36b62",
   "metadata": {},
   "outputs": [
    {
     "data": {
      "text/plain": [
       "array([0.67602784, 0.46605214, 0.23579798, 0.67346784, 0.42106863,\n",
       "       0.22029102])"
      ]
     },
     "execution_count": 10,
     "metadata": {},
     "output_type": "execute_result"
    }
   ],
   "source": [
    "pgm_result['line']['loading']"
   ]
  },
  {
   "cell_type": "code",
   "execution_count": null,
   "id": "042bea47",
   "metadata": {},
   "outputs": [],
   "source": []
  },
  {
   "cell_type": "code",
   "execution_count": null,
   "id": "bd4ecda5",
   "metadata": {},
   "outputs": [],
   "source": []
  }
 ],
 "metadata": {
  "kernelspec": {
   "display_name": "Python 3",
   "language": "python",
   "name": "python3"
  },
  "language_info": {
   "codemirror_mode": {
    "name": "ipython",
    "version": 3
   },
   "file_extension": ".py",
   "mimetype": "text/x-python",
   "name": "python",
   "nbconvert_exporter": "python",
   "pygments_lexer": "ipython3",
   "version": "3.9.7"
  }
 },
 "nbformat": 4,
 "nbformat_minor": 5
}
