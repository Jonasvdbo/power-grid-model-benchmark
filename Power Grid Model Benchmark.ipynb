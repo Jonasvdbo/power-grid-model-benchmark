{
 "cells": [
  {
   "cell_type": "markdown",
   "id": "cd7b594e",
   "metadata": {},
   "source": [
    "# Introduction\n"
   ]
  },
  {
   "cell_type": "code",
   "execution_count": 1,
   "id": "0267ac98",
   "metadata": {},
   "outputs": [],
   "source": [
    "import numpy as np\n",
    "import pandas as pd\n",
    "import pandapower as pp\n",
    "import power_grid_model as pgm\n",
    "from generate_fictional_dataset import generate_fictional_grid\n",
    "import time"
   ]
  },
  {
   "cell_type": "code",
   "execution_count": 2,
   "id": "34db0eaa",
   "metadata": {},
   "outputs": [],
   "source": [
    "# summary\n",
    "summary_df = pd.DataFrame(\n",
    "    np.zeros(shape=(8, 3), dtype=np.float64), \n",
    "    columns=['PGM Linear', 'PGM NR', 'PandaPower NR'],\n",
    "    index=[\n",
    "        'Symmetric calculation with solver initialization',\n",
    "        'Symmetric calculation without solver initialization',\n",
    "        'Asymmetric calculation with solver initialization',\n",
    "        'Asymmetric calculation without solver initialization',\n",
    "        'Time series symmetric calculation',\n",
    "        'Time series asymmetric calculation',\n",
    "        'N-1 symmetric calculation',\n",
    "        'N-1 asymmetric calculation',\n",
    "    ]\n",
    ")"
   ]
  },
  {
   "cell_type": "code",
   "execution_count": 3,
   "id": "ece0138d",
   "metadata": {},
   "outputs": [],
   "source": [
    "# fictional grid parameters\n",
    "\n",
    "n_node_per_feeder = 10\n",
    "n_feeder_small = 100\n",
    "n_feeder_big = 100\n",
    "\n",
    "cable_length_km_min = 0.8\n",
    "cable_length_km_max = 1.2\n",
    "load_p_w_max = 0.4e6 * 0.8\n",
    "load_p_w_min = 0.4e6 * 1.2\n",
    "pf = 0.95\n"
   ]
  },
  {
   "cell_type": "markdown",
   "id": "aab0f11d",
   "metadata": {},
   "source": [
    "# Pre-cache Library\n"
   ]
  },
  {
   "cell_type": "code",
   "execution_count": 4,
   "id": "cc656c47",
   "metadata": {},
   "outputs": [],
   "source": [
    "fictional_dataset = generate_fictional_grid(\n",
    "    n_node_per_feeder=3,\n",
    "    n_feeder=2,\n",
    "    cable_length_km_min=cable_length_km_min,\n",
    "    cable_length_km_max=cable_length_km_max,\n",
    "    load_p_w_max=load_p_w_max,\n",
    "    load_p_w_min=load_p_w_min,\n",
    "    pf=pf\n",
    ")\n",
    "\n",
    "pp.runpp(fictional_dataset['pp_net'], algorithm='nr', calculate_voltage_angles=True, distributed_slack=True)\n",
    "pgm_model = pgm.PowerGridModel(fictional_dataset['pgm_dataset'])\n",
    "pgm_result = pgm_model.calculate_power_flow()"
   ]
  },
  {
   "cell_type": "markdown",
   "id": "9ca1e1b7",
   "metadata": {},
   "source": [
    "# Big Network"
   ]
  },
  {
   "cell_type": "code",
   "execution_count": 5,
   "id": "7909cdd9",
   "metadata": {},
   "outputs": [],
   "source": [
    "fictional_dataset = generate_fictional_grid(\n",
    "    n_node_per_feeder=n_node_per_feeder,\n",
    "    n_feeder=n_feeder_big,\n",
    "    cable_length_km_min=cable_length_km_min,\n",
    "    cable_length_km_max=cable_length_km_max,\n",
    "    load_p_w_max=load_p_w_max,\n",
    "    load_p_w_min=load_p_w_min,\n",
    "    pf=pf\n",
    ")\n",
    "\n",
    "pp_net = fictional_dataset['pp_net']\n",
    "pgm_dataset = fictional_dataset['pgm_dataset']\n"
   ]
  },
  {
   "cell_type": "markdown",
   "id": "681b407b",
   "metadata": {},
   "source": [
    "## Symmetric"
   ]
  },
  {
   "cell_type": "code",
   "execution_count": 6,
   "id": "612d3384",
   "metadata": {},
   "outputs": [],
   "source": [
    "# first calculation with solver initialization\n",
    "pgm_model = pgm.PowerGridModel(pgm_dataset)\n",
    "start = time.time()\n",
    "pgm_result = pgm_model.calculate_power_flow(calculation_method='linear')\n",
    "end = time.time()\n",
    "summary_df.loc['Symmetric calculation with solver initialization', 'PGM Linear'] = end - start\n",
    "\n",
    "# second calculation with existing solver\n",
    "start = time.time()\n",
    "pgm_result = pgm_model.calculate_power_flow(calculation_method='linear')\n",
    "end = time.time()\n",
    "summary_df.loc['Symmetric calculation without solver initialization', 'PGM Linear'] = end - start"
   ]
  },
  {
   "cell_type": "code",
   "execution_count": 7,
   "id": "7f335ff4",
   "metadata": {},
   "outputs": [],
   "source": [
    "# first calculation with solver initialization\n",
    "pgm_model = pgm.PowerGridModel(pgm_dataset)\n",
    "start = time.time()\n",
    "pgm_result = pgm_model.calculate_power_flow()\n",
    "end = time.time()\n",
    "summary_df.loc['Symmetric calculation with solver initialization', 'PGM NR'] = end - start\n",
    "\n",
    "# second calculation with existing solver\n",
    "start = time.time()\n",
    "pgm_result = pgm_model.calculate_power_flow()\n",
    "end = time.time()\n",
    "summary_df.loc['Symmetric calculation without solver initialization', 'PGM NR'] = end - start\n"
   ]
  },
  {
   "cell_type": "code",
   "execution_count": 8,
   "id": "75a86adc",
   "metadata": {},
   "outputs": [],
   "source": [
    "# first calculation with solver initialization\n",
    "start = time.time()\n",
    "pp.runpp(pp_net, algorithm='nr', calculate_voltage_angles=True, distributed_slack=True)\n",
    "end = time.time()\n",
    "summary_df.loc['Symmetric calculation with solver initialization', 'PandaPower NR'] = end - start\n",
    "\n",
    "# second calculation with existing solver\n",
    "start = time.time()\n",
    "pp.runpp(pp_net, algorithm='nr', calculate_voltage_angles=True, distributed_slack=True)\n",
    "end = time.time()\n",
    "summary_df.loc['Symmetric calculation without solver initialization', 'PandaPower NR'] = end - start"
   ]
  },
  {
   "cell_type": "code",
   "execution_count": 9,
   "id": "f532a8ed",
   "metadata": {},
   "outputs": [
    {
     "data": {
      "text/plain": [
       "2.3988731663537877e-05"
      ]
     },
     "execution_count": 9,
     "metadata": {},
     "output_type": "execute_result"
    }
   ],
   "source": [
    "np.abs(pp_net.res_bus['vm_pu'] - pgm_result['node']['u_pu']).max()"
   ]
  },
  {
   "cell_type": "code",
   "execution_count": 10,
   "id": "0e3a9954",
   "metadata": {},
   "outputs": [
    {
     "data": {
      "text/plain": [
       "0.0002488719126692851"
      ]
     },
     "execution_count": 10,
     "metadata": {},
     "output_type": "execute_result"
    }
   ],
   "source": [
    "np.abs(pp_net.res_line['loading_percent'] * 1e-2 - pgm_result['line']['loading']).max()"
   ]
  },
  {
   "cell_type": "markdown",
   "id": "4e07f6c0",
   "metadata": {},
   "source": [
    "## Asymmetric"
   ]
  },
  {
   "cell_type": "code",
   "execution_count": 11,
   "id": "c76f1366",
   "metadata": {},
   "outputs": [],
   "source": [
    "# first calculation with solver initialization\n",
    "pgm_model = pgm.PowerGridModel(pgm_dataset)\n",
    "start = time.time()\n",
    "pgm_result = pgm_model.calculate_power_flow(symmetric=False)\n",
    "end = time.time()\n",
    "summary_df.loc['Asymmetric calculation with solver initialization', 'PGM NR'] = end - start\n",
    "\n",
    "# second calculation with existing solver\n",
    "start = time.time()\n",
    "pgm_result = pgm_model.calculate_power_flow(symmetric=False)\n",
    "end = time.time()\n",
    "summary_df.loc['Asymmetric calculation without solver initialization', 'PGM NR'] = end - start"
   ]
  },
  {
   "cell_type": "code",
   "execution_count": 12,
   "id": "5357e649",
   "metadata": {},
   "outputs": [],
   "source": [
    "pp_net.load[['p_mw', 'q_mvar']] = 0.0\n",
    "\n",
    "\n",
    "# first calculation with solver initialization\n",
    "start = time.time()\n",
    "pp.pf.runpp_3ph.runpp_3ph(pp_net, algorithm='nr', calculate_voltage_angles=True, distributed_slack=True)\n",
    "end = time.time()\n",
    "summary_df.loc['Asymmetric calculation with solver initialization', 'PandaPower NR'] = end - start\n",
    "\n",
    "# second calculation with existing solver\n",
    "start = time.time()\n",
    "pp.pf.runpp_3ph.runpp_3ph(pp_net, algorithm='nr', calculate_voltage_angles=True, distributed_slack=True)\n",
    "end = time.time()\n",
    "summary_df.loc['Asymmetric calculation without solver initialization', 'PandaPower NR'] = end - start\n"
   ]
  },
  {
   "cell_type": "code",
   "execution_count": 13,
   "id": "840e9f29",
   "metadata": {},
   "outputs": [
    {
     "data": {
      "text/plain": [
       "5.79704284575655e-10"
      ]
     },
     "execution_count": 13,
     "metadata": {},
     "output_type": "execute_result"
    }
   ],
   "source": [
    "np.abs(pp_net.res_bus_3ph[['vm_a_pu', 'vm_b_pu', 'vm_c_pu']].to_numpy() - pgm_result['node']['u_pu']).max()"
   ]
  },
  {
   "cell_type": "code",
   "execution_count": 14,
   "id": "0ffab092",
   "metadata": {},
   "outputs": [
    {
     "data": {
      "text/plain": [
       "8.192209383084403e-09"
      ]
     },
     "execution_count": 14,
     "metadata": {},
     "output_type": "execute_result"
    }
   ],
   "source": [
    "np.abs(pp_net.res_line_3ph['loading_percent'] * 1e-2 - pgm_result['line']['loading']).max()"
   ]
  },
  {
   "cell_type": "markdown",
   "id": "ff983dfb",
   "metadata": {},
   "source": [
    "# Summary of Performace"
   ]
  },
  {
   "cell_type": "code",
   "execution_count": 15,
   "id": "4f897355",
   "metadata": {},
   "outputs": [
    {
     "data": {
      "text/html": [
       "<div>\n",
       "<style scoped>\n",
       "    .dataframe tbody tr th:only-of-type {\n",
       "        vertical-align: middle;\n",
       "    }\n",
       "\n",
       "    .dataframe tbody tr th {\n",
       "        vertical-align: top;\n",
       "    }\n",
       "\n",
       "    .dataframe thead th {\n",
       "        text-align: right;\n",
       "    }\n",
       "</style>\n",
       "<table border=\"1\" class=\"dataframe\">\n",
       "  <thead>\n",
       "    <tr style=\"text-align: right;\">\n",
       "      <th></th>\n",
       "      <th>PGM Linear</th>\n",
       "      <th>PGM NR</th>\n",
       "      <th>PandaPower NR</th>\n",
       "    </tr>\n",
       "  </thead>\n",
       "  <tbody>\n",
       "    <tr>\n",
       "      <th>Symmetric calculation with solver initialization</th>\n",
       "      <td>0.002958</td>\n",
       "      <td>0.006023</td>\n",
       "      <td>0.024999</td>\n",
       "    </tr>\n",
       "    <tr>\n",
       "      <th>Symmetric calculation without solver initialization</th>\n",
       "      <td>0.002000</td>\n",
       "      <td>0.004995</td>\n",
       "      <td>0.022034</td>\n",
       "    </tr>\n",
       "    <tr>\n",
       "      <th>Asymmetric calculation with solver initialization</th>\n",
       "      <td>0.000000</td>\n",
       "      <td>0.031044</td>\n",
       "      <td>0.180042</td>\n",
       "    </tr>\n",
       "    <tr>\n",
       "      <th>Asymmetric calculation without solver initialization</th>\n",
       "      <td>0.000000</td>\n",
       "      <td>0.021953</td>\n",
       "      <td>0.150573</td>\n",
       "    </tr>\n",
       "    <tr>\n",
       "      <th>Time series symmetric calculation</th>\n",
       "      <td>0.000000</td>\n",
       "      <td>0.000000</td>\n",
       "      <td>0.000000</td>\n",
       "    </tr>\n",
       "    <tr>\n",
       "      <th>Time series asymmetric calculation</th>\n",
       "      <td>0.000000</td>\n",
       "      <td>0.000000</td>\n",
       "      <td>0.000000</td>\n",
       "    </tr>\n",
       "    <tr>\n",
       "      <th>N-1 symmetric calculation</th>\n",
       "      <td>0.000000</td>\n",
       "      <td>0.000000</td>\n",
       "      <td>0.000000</td>\n",
       "    </tr>\n",
       "    <tr>\n",
       "      <th>N-1 asymmetric calculation</th>\n",
       "      <td>0.000000</td>\n",
       "      <td>0.000000</td>\n",
       "      <td>0.000000</td>\n",
       "    </tr>\n",
       "  </tbody>\n",
       "</table>\n",
       "</div>"
      ],
      "text/plain": [
       "                                                    PGM Linear    PGM NR  \\\n",
       "Symmetric calculation with solver initialization      0.002958  0.006023   \n",
       "Symmetric calculation without solver initializa...    0.002000  0.004995   \n",
       "Asymmetric calculation with solver initialization     0.000000  0.031044   \n",
       "Asymmetric calculation without solver initializ...    0.000000  0.021953   \n",
       "Time series symmetric calculation                     0.000000  0.000000   \n",
       "Time series asymmetric calculation                    0.000000  0.000000   \n",
       "N-1 symmetric calculation                             0.000000  0.000000   \n",
       "N-1 asymmetric calculation                            0.000000  0.000000   \n",
       "\n",
       "                                                    PandaPower NR  \n",
       "Symmetric calculation with solver initialization         0.024999  \n",
       "Symmetric calculation without solver initializa...       0.022034  \n",
       "Asymmetric calculation with solver initialization        0.180042  \n",
       "Asymmetric calculation without solver initializ...       0.150573  \n",
       "Time series symmetric calculation                        0.000000  \n",
       "Time series asymmetric calculation                       0.000000  \n",
       "N-1 symmetric calculation                                0.000000  \n",
       "N-1 asymmetric calculation                               0.000000  "
      ]
     },
     "execution_count": 15,
     "metadata": {},
     "output_type": "execute_result"
    }
   ],
   "source": [
    "summary_df"
   ]
  },
  {
   "cell_type": "code",
   "execution_count": null,
   "id": "53d74959",
   "metadata": {},
   "outputs": [],
   "source": []
  }
 ],
 "metadata": {
  "kernelspec": {
   "display_name": "Python 3",
   "language": "python",
   "name": "python3"
  },
  "language_info": {
   "codemirror_mode": {
    "name": "ipython",
    "version": 3
   },
   "file_extension": ".py",
   "mimetype": "text/x-python",
   "name": "python",
   "nbconvert_exporter": "python",
   "pygments_lexer": "ipython3",
   "version": "3.9.7"
  }
 },
 "nbformat": 4,
 "nbformat_minor": 5
}
