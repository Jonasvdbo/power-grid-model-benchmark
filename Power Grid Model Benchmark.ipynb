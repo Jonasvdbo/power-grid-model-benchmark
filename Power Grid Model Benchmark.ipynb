{
 "cells": [
  {
   "cell_type": "markdown",
   "id": "e8f2cdaf",
   "metadata": {},
   "source": [
    "# Introduction\n"
   ]
  },
  {
   "cell_type": "code",
   "execution_count": 1,
   "id": "8185331a",
   "metadata": {},
   "outputs": [],
   "source": [
    "import numpy as np\n",
    "import pandas as pd\n",
    "import pandapower as pp\n",
    "import power_grid_model as pgm\n",
    "from generate_fictional_dataset import generate_fictional_grid"
   ]
  },
  {
   "cell_type": "code",
   "execution_count": 2,
   "id": "b96284a8",
   "metadata": {},
   "outputs": [],
   "source": [
    "# fictional grid parameters\n",
    "\n",
    "n_node_per_feeder = 3\n",
    "n_feeder_small = 100\n",
    "n_feeder_big = 2\n",
    "\n",
    "cable_length_km_min = 0.8\n",
    "cable_length_km_max = 1.2\n",
    "load_p_w_max = 0.4e6 * 0.8\n",
    "load_p_w_min = 0.4e6 * 1.2\n",
    "pf = 0.95\n"
   ]
  },
  {
   "cell_type": "markdown",
   "id": "9e02428b",
   "metadata": {},
   "source": [
    "# Big Network"
   ]
  },
  {
   "cell_type": "code",
   "execution_count": 3,
   "id": "a9a59061",
   "metadata": {},
   "outputs": [],
   "source": [
    "fictional_dataset = generate_fictional_grid(\n",
    "    n_node_per_feeder=n_node_per_feeder,\n",
    "    n_feeder=n_feeder_big,\n",
    "    cable_length_km_min=cable_length_km_min,\n",
    "    cable_length_km_max=cable_length_km_max,\n",
    "    load_p_w_max=load_p_w_max,\n",
    "    load_p_w_min=load_p_w_min,\n",
    "    pf=pf\n",
    ")\n",
    "\n",
    "pp_net = fictional_dataset['pp_net']\n",
    "pgm_dataset = fictional_dataset['pgm_dataset']\n",
    "\n",
    "pgm_model = pgm.PowerGridModel(pgm_dataset)"
   ]
  },
  {
   "cell_type": "code",
   "execution_count": null,
   "id": "dc6fd95d",
   "metadata": {},
   "outputs": [],
   "source": []
  }
 ],
 "metadata": {
  "kernelspec": {
   "display_name": "Python 3",
   "language": "python",
   "name": "python3"
  },
  "language_info": {
   "codemirror_mode": {
    "name": "ipython",
    "version": 3
   },
   "file_extension": ".py",
   "mimetype": "text/x-python",
   "name": "python",
   "nbconvert_exporter": "python",
   "pygments_lexer": "ipython3",
   "version": "3.9.7"
  }
 },
 "nbformat": 4,
 "nbformat_minor": 5
}
