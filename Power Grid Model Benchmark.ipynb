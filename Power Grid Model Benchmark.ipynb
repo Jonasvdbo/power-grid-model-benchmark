{
 "cells": [
  {
   "cell_type": "markdown",
   "id": "cd7b594e",
   "metadata": {},
   "source": [
    "# Introduction\n",
    "\n",
    "This notebook presents a benchmark comparison between `power-grid-model` and \n",
    "[`pandapower`](https://github.com/e2nIEE/pandapower).\n",
    "It runs several calculations, measures the calculation time, and compares the results.\n",
    "\n",
    "## Test Network\n",
    "\n",
    "The test network is fictionally generated using pre-defined random criteria. It is a radial network as follows:\n",
    "\n",
    "```\n",
    "\n",
    "source --- source_node ---| ---line--- node ---line--- node ...   (n_node_per_feeder)\n",
    "                          |              |              |\n",
    "                          |            load            load ...\n",
    "                          |\n",
    "                          | ---line--- ...\n",
    "                          | .\n",
    "                          | .\n",
    "                          | .\n",
    "                          | (n_feeder)\n",
    "\n",
    "```\n",
    "\n",
    "There is a node which is connected to a source (external network). From the source node there are `n_feeder` feeders. For each feeder there are `n_node_per_feeder` nodes, lines, and asymmetric loads. There are in total `n_feeder * n_node_per_feeder + 1` nodes in the network.\n",
    "\n",
    "\n",
    "## Calculation\n",
    "\n",
    "The notebook runs power flow calculation with the same input data in `power-grid-model` and `pandapower`. It runs the following calculations:\n",
    "\n",
    "* Single calculation with solver initialization.\n",
    "* Single calculation without solver initialization (using pre-cached internal matrices).\n",
    "* Time-series calculation\n",
    "* N-1 calculation\n",
    "\n",
    "The calculation is run symmetrically and asymmetrically. Both `power-grid-model` and `pandapower` supports asymmetric loads in symmetric calculations: the three-phase load is aggregated into one symmetric load.\n",
    "\n",
    "## Results Comparison\n",
    "\n",
    "The following results are compared between `power-grid-model` and `pandapower`:\n",
    "\n",
    "* Per unit voltage of nodes (buses). For asymmetric calculation, it compares the value per phase.\n",
    "* Loading of the lines.\n",
    "\n",
    "## Performance Benchmark\n",
    "\n",
    "The CPU time is measured for the **calculation part** of the program. The data preparation and model initialization is not measured. Furthermore, the single calculation is benchmarked with and without solver initialization. The former needs to execute connectivity check and initialize internal matrices (for example node admittance matrix). The latter uses the pre-cached connectivity and internal matrices."
   ]
  },
  {
   "cell_type": "markdown",
   "id": "32edcf84",
   "metadata": {},
   "source": [
    "# Preparation\n",
    "\n",
    "## Import Libraries\n",
    "\n",
    "We import neede libraries here. The fictional network generation and time-series profile generation is in an aparte Python file \n",
    "[generate_fictional_dataset.py](./generate_fictional_dataset.py)."
   ]
  },
  {
   "cell_type": "code",
   "execution_count": 1,
   "id": "0267ac98",
   "metadata": {},
   "outputs": [],
   "source": [
    "import numpy as np\n",
    "import pandas as pd\n",
    "import pandapower as pp\n",
    "import power_grid_model as pgm\n",
    "from generate_fictional_dataset import generate_fictional_grid, generate_time_series\n",
    "import time\n",
    "from pathlib import Path\n",
    "import tempfile\n",
    "\n",
    "# output dir for pandapower time-series\n",
    "output_dir = Path(tempfile.gettempdir()) / \"pandapower_time_series\"\n",
    "output_dir.mkdir(exist_ok=True)\n"
   ]
  },
  {
   "cell_type": "code",
   "execution_count": 2,
   "id": "34db0eaa",
   "metadata": {},
   "outputs": [],
   "source": [
    "# summary\n",
    "summary_df = pd.DataFrame(\n",
    "    np.zeros(shape=(8, 3), dtype=np.float64), \n",
    "    columns=['PGM Linear', 'PGM NR', 'PandaPower NR'],\n",
    "    index=[\n",
    "        'Symmetric calculation with solver initialization',\n",
    "        'Symmetric calculation without solver initialization',\n",
    "        'Asymmetric calculation with solver initialization',\n",
    "        'Asymmetric calculation without solver initialization',\n",
    "        'Time series symmetric calculation',\n",
    "        'Time series asymmetric calculation',\n",
    "        'N-1 symmetric calculation',\n",
    "        'N-1 asymmetric calculation',\n",
    "    ]\n",
    ")\n",
    "\n",
    "comparison_df = pd.DataFrame(\n",
    "    np.zeros(shape=(6, 2), dtype=np.float64), \n",
    "    columns=['Deviation Voltage (p.u.)', 'Deviation Loading (p.u.)'],\n",
    "    index=[\n",
    "        'Symmetric calculation',\n",
    "        'Asymmetric calculation',\n",
    "        'Time series symmetric calculation',\n",
    "        'Time series asymmetric calculation',\n",
    "        'N-1 symmetric calculation',\n",
    "        'N-1 asymmetric calculation',\n",
    "    ]\n",
    ")"
   ]
  },
  {
   "cell_type": "code",
   "execution_count": 3,
   "id": "ece0138d",
   "metadata": {},
   "outputs": [],
   "source": [
    "# fictional grid parameters\n",
    "\n",
    "n_node_per_feeder = 3\n",
    "n_feeder = 2\n",
    "\n",
    "cable_length_km_min = 0.8\n",
    "cable_length_km_max = 1.2\n",
    "load_p_w_max = 0.4e6 * 0.8\n",
    "load_p_w_min = 0.4e6 * 1.2\n",
    "pf = 0.95\n",
    "\n",
    "load_scaling_min = 0.5\n",
    "load_scaling_max = 1.5\n",
    "n_step = 100\n",
    "n_node = n_node_per_feeder * n_feeder + 1\n",
    "n_line = n_node_per_feeder * n_feeder\n",
    "n_load = n_node_per_feeder * n_feeder"
   ]
  },
  {
   "cell_type": "markdown",
   "id": "aab0f11d",
   "metadata": {},
   "source": [
    "# Pre-cache Library\n"
   ]
  },
  {
   "cell_type": "code",
   "execution_count": 4,
   "id": "cc656c47",
   "metadata": {},
   "outputs": [],
   "source": [
    "fictional_dataset = generate_fictional_grid(\n",
    "    n_node_per_feeder=3,\n",
    "    n_feeder=2,\n",
    "    cable_length_km_min=cable_length_km_min,\n",
    "    cable_length_km_max=cable_length_km_max,\n",
    "    load_p_w_max=load_p_w_max,\n",
    "    load_p_w_min=load_p_w_min,\n",
    "    pf=pf\n",
    ")\n",
    "\n",
    "pp.runpp(fictional_dataset['pp_net'], algorithm='nr', calculate_voltage_angles=True, distributed_slack=True)\n",
    "pgm_model = pgm.PowerGridModel(fictional_dataset['pgm_dataset'])\n",
    "pgm_result = pgm_model.calculate_power_flow()"
   ]
  },
  {
   "cell_type": "markdown",
   "id": "9ca1e1b7",
   "metadata": {},
   "source": [
    "# Single Calculation"
   ]
  },
  {
   "cell_type": "code",
   "execution_count": 5,
   "id": "7909cdd9",
   "metadata": {},
   "outputs": [],
   "source": [
    "fictional_dataset = generate_fictional_grid(\n",
    "    n_node_per_feeder=n_node_per_feeder,\n",
    "    n_feeder=n_feeder,\n",
    "    cable_length_km_min=cable_length_km_min,\n",
    "    cable_length_km_max=cable_length_km_max,\n",
    "    load_p_w_max=load_p_w_max,\n",
    "    load_p_w_min=load_p_w_min,\n",
    "    pf=pf\n",
    ")\n",
    "\n",
    "pp_net = fictional_dataset['pp_net']\n",
    "pgm_dataset = fictional_dataset['pgm_dataset']\n"
   ]
  },
  {
   "cell_type": "markdown",
   "id": "681b407b",
   "metadata": {},
   "source": [
    "## Symmetric"
   ]
  },
  {
   "cell_type": "code",
   "execution_count": 6,
   "id": "612d3384",
   "metadata": {},
   "outputs": [],
   "source": [
    "# first calculation with solver initialization\n",
    "pgm_model = pgm.PowerGridModel(pgm_dataset)\n",
    "start = time.time()\n",
    "pgm_result = pgm_model.calculate_power_flow(calculation_method='linear')\n",
    "end = time.time()\n",
    "summary_df.loc['Symmetric calculation with solver initialization', 'PGM Linear'] = end - start\n",
    "\n",
    "# second calculation with existing solver\n",
    "start = time.time()\n",
    "pgm_result = pgm_model.calculate_power_flow(calculation_method='linear')\n",
    "end = time.time()\n",
    "summary_df.loc['Symmetric calculation without solver initialization', 'PGM Linear'] = end - start"
   ]
  },
  {
   "cell_type": "code",
   "execution_count": 7,
   "id": "7f335ff4",
   "metadata": {},
   "outputs": [],
   "source": [
    "# first calculation with solver initialization\n",
    "pgm_model = pgm.PowerGridModel(pgm_dataset)\n",
    "start = time.time()\n",
    "pgm_result = pgm_model.calculate_power_flow()\n",
    "end = time.time()\n",
    "summary_df.loc['Symmetric calculation with solver initialization', 'PGM NR'] = end - start\n",
    "\n",
    "# second calculation with existing solver\n",
    "start = time.time()\n",
    "pgm_result = pgm_model.calculate_power_flow()\n",
    "end = time.time()\n",
    "summary_df.loc['Symmetric calculation without solver initialization', 'PGM NR'] = end - start\n"
   ]
  },
  {
   "cell_type": "code",
   "execution_count": 8,
   "id": "75a86adc",
   "metadata": {},
   "outputs": [],
   "source": [
    "# first calculation with solver initialization\n",
    "start = time.time()\n",
    "pp.runpp(pp_net, algorithm='nr', calculate_voltage_angles=True, distributed_slack=True)\n",
    "end = time.time()\n",
    "summary_df.loc['Symmetric calculation with solver initialization', 'PandaPower NR'] = end - start\n",
    "\n",
    "# second calculation with existing solver\n",
    "start = time.time()\n",
    "pp.runpp(pp_net, algorithm='nr', calculate_voltage_angles=True, distributed_slack=True)\n",
    "end = time.time()\n",
    "summary_df.loc['Symmetric calculation without solver initialization', 'PandaPower NR'] = end - start"
   ]
  },
  {
   "cell_type": "code",
   "execution_count": 9,
   "id": "f532a8ed",
   "metadata": {},
   "outputs": [],
   "source": [
    "comparison_df.loc['Symmetric calculation', 'Deviation Voltage (p.u.)'] = \\\n",
    "    np.abs(pp_net.res_bus['vm_pu'] - pgm_result['node']['u_pu']).max()\n",
    "comparison_df.loc['Symmetric calculation', 'Deviation Loading (p.u.)'] = \\\n",
    "    np.abs(pp_net.res_line['loading_percent'] * 1e-2 - pgm_result['line']['loading']).max()"
   ]
  },
  {
   "cell_type": "markdown",
   "id": "4e07f6c0",
   "metadata": {},
   "source": [
    "## Asymmetric"
   ]
  },
  {
   "cell_type": "code",
   "execution_count": 10,
   "id": "c76f1366",
   "metadata": {},
   "outputs": [],
   "source": [
    "# first calculation with solver initialization\n",
    "pgm_model = pgm.PowerGridModel(pgm_dataset)\n",
    "start = time.time()\n",
    "pgm_result = pgm_model.calculate_power_flow(symmetric=False, calculation_method='linear')\n",
    "end = time.time()\n",
    "summary_df.loc['Asymmetric calculation with solver initialization', 'PGM Linear'] = end - start\n",
    "\n",
    "# second calculation with existing solver\n",
    "start = time.time()\n",
    "pgm_result = pgm_model.calculate_power_flow(symmetric=False, calculation_method='linear')\n",
    "end = time.time()\n",
    "summary_df.loc['Asymmetric calculation without solver initialization', 'PGM Linear'] = end - start"
   ]
  },
  {
   "cell_type": "code",
   "execution_count": 11,
   "id": "2ce9f63c",
   "metadata": {},
   "outputs": [],
   "source": [
    "# first calculation with solver initialization\n",
    "pgm_model = pgm.PowerGridModel(pgm_dataset)\n",
    "start = time.time()\n",
    "pgm_result = pgm_model.calculate_power_flow(symmetric=False)\n",
    "end = time.time()\n",
    "summary_df.loc['Asymmetric calculation with solver initialization', 'PGM NR'] = end - start\n",
    "\n",
    "# second calculation with existing solver\n",
    "start = time.time()\n",
    "pgm_result = pgm_model.calculate_power_flow(symmetric=False)\n",
    "end = time.time()\n",
    "summary_df.loc['Asymmetric calculation without solver initialization', 'PGM NR'] = end - start"
   ]
  },
  {
   "cell_type": "code",
   "execution_count": 12,
   "id": "5357e649",
   "metadata": {},
   "outputs": [],
   "source": [
    "# first calculation with solver initialization\n",
    "start = time.time()\n",
    "pp.runpp_3ph(pp_net, algorithm='nr', calculate_voltage_angles=True, distributed_slack=True)\n",
    "end = time.time()\n",
    "summary_df.loc['Asymmetric calculation with solver initialization', 'PandaPower NR'] = end - start\n",
    "\n",
    "# second calculation with existing solver\n",
    "start = time.time()\n",
    "pp.runpp_3ph(pp_net, algorithm='nr', calculate_voltage_angles=True, distributed_slack=True)\n",
    "end = time.time()\n",
    "summary_df.loc['Asymmetric calculation without solver initialization', 'PandaPower NR'] = end - start\n"
   ]
  },
  {
   "cell_type": "code",
   "execution_count": 13,
   "id": "840e9f29",
   "metadata": {},
   "outputs": [],
   "source": [
    "comparison_df.loc['Asymmetric calculation', 'Deviation Voltage (p.u.)'] = \\\n",
    "    np.abs(pp_net.res_bus_3ph[['vm_a_pu', 'vm_b_pu', 'vm_c_pu']].to_numpy() - pgm_result['node']['u_pu']).max()\n",
    "comparison_df.loc['Asymmetric calculation', 'Deviation Loading (p.u.)'] = \\\n",
    "    np.abs(pp_net.res_line_3ph['loading_percent'] * 1e-2 - pgm_result['line']['loading']).max()"
   ]
  },
  {
   "cell_type": "markdown",
   "id": "bd10ecd4",
   "metadata": {},
   "source": [
    "# Time Series Calculation"
   ]
  },
  {
   "cell_type": "code",
   "execution_count": 14,
   "id": "ab571db2",
   "metadata": {},
   "outputs": [],
   "source": [
    "time_series_dataset = generate_time_series(\n",
    "    fictional_dataset,\n",
    "    n_step=n_step,\n",
    "    load_scaling_min=load_scaling_min,\n",
    "    load_scaling_max=load_scaling_max\n",
    ")\n",
    "\n",
    "pgm_update_dataset = time_series_dataset['pgm_update_dataset']\n",
    "pp_dataset = time_series_dataset['pp_dataset']\n",
    "time_steps = np.arange(n_step)\n",
    "\n",
    "for x, y in zip(['p', 'q'], ['mw', 'mvar']):\n",
    "    for p in ['a', 'b', 'c']:\n",
    "        name = f'{x}_{p}_{y}'\n",
    "        _ = pp.control.ConstControl(\n",
    "            pp_net, element='asymmetric_load', \n",
    "            element_index=pp_net.asymmetric_load.index, variable=name, \n",
    "            data_source=pp_dataset[name], profile_name=pp_net.asymmetric_load.index)\n"
   ]
  },
  {
   "cell_type": "markdown",
   "id": "c0c68b83",
   "metadata": {},
   "source": [
    "## Symmetric"
   ]
  },
  {
   "cell_type": "code",
   "execution_count": 15,
   "id": "bae29ebf",
   "metadata": {},
   "outputs": [],
   "source": [
    "pgm_model = pgm.PowerGridModel(pgm_dataset)\n",
    "start = time.time()\n",
    "pgm_result = pgm_model.calculate_power_flow(calculation_method='linear', update_data=pgm_update_dataset)\n",
    "end = time.time()\n",
    "summary_df.loc['Time series symmetric calculation', 'PGM Linear'] = end - start"
   ]
  },
  {
   "cell_type": "code",
   "execution_count": 16,
   "id": "b4257bd3",
   "metadata": {},
   "outputs": [],
   "source": [
    "pgm_model = pgm.PowerGridModel(pgm_dataset)\n",
    "start = time.time()\n",
    "pgm_result = pgm_model.calculate_power_flow(update_data=pgm_update_dataset)\n",
    "end = time.time()\n",
    "summary_df.loc['Time series symmetric calculation', 'PGM NR'] = end - start"
   ]
  },
  {
   "cell_type": "code",
   "execution_count": 17,
   "id": "b943bdee",
   "metadata": {},
   "outputs": [
    {
     "name": "stdout",
     "output_type": "stream",
     "text": [
      "Progress: |██████████████████████████████████████████████████| 100.0% Complete\n",
      "\n"
     ]
    }
   ],
   "source": [
    "_ = pp.timeseries.OutputWriter(\n",
    "    pp_net, output_path=output_dir, output_file_type=\".csv\", csv_separator=',',\n",
    "    log_variables=[\n",
    "        ('res_bus', 'vm_pu'),\n",
    "        ('res_line', 'loading_percent'),\n",
    "    ]\n",
    ")\n",
    "\n",
    "start = time.time()\n",
    "pp.timeseries.run_timeseries(\n",
    "    pp_net, run=pp.runpp, time_steps=time_steps,\n",
    "    calculate_voltage_angles=True, distributed_slack=True\n",
    ")\n",
    "end = time.time()\n",
    "summary_df.loc['Time series symmetric calculation', 'PandaPower NR'] = end - start"
   ]
  },
  {
   "cell_type": "code",
   "execution_count": 18,
   "id": "75977fb6",
   "metadata": {},
   "outputs": [],
   "source": [
    "pp_u_pu = pd.read_csv(output_dir / 'res_bus' / 'vm_pu.csv', index_col=0).to_numpy()\n",
    "comparison_df.loc['Time series symmetric calculation', 'Deviation Voltage (p.u.)'] = \\\n",
    "    np.abs(pp_u_pu - pgm_result['node']['u_pu']).max()\n",
    "pp_loading = pd.read_csv(output_dir / 'res_line' / 'loading_percent.csv', index_col=0).to_numpy() * 1e-2\n",
    "comparison_df.loc['Time series symmetric calculation', 'Deviation Loading (p.u.)'] = \\\n",
    "    np.abs(pp_loading - pgm_result['line']['loading']).max()\n"
   ]
  },
  {
   "cell_type": "markdown",
   "id": "b9bff694",
   "metadata": {},
   "source": [
    "## Asymmetric"
   ]
  },
  {
   "cell_type": "code",
   "execution_count": 19,
   "id": "4735161f",
   "metadata": {},
   "outputs": [],
   "source": [
    "pgm_model = pgm.PowerGridModel(pgm_dataset)\n",
    "start = time.time()\n",
    "pgm_result = pgm_model.calculate_power_flow(symmetric=False, calculation_method='linear', update_data=pgm_update_dataset)\n",
    "end = time.time()\n",
    "summary_df.loc['Time series asymmetric calculation', 'PGM Linear'] = end - start"
   ]
  },
  {
   "cell_type": "code",
   "execution_count": 20,
   "id": "cc337c14",
   "metadata": {},
   "outputs": [],
   "source": [
    "pgm_model = pgm.PowerGridModel(pgm_dataset)\n",
    "start = time.time()\n",
    "pgm_result = pgm_model.calculate_power_flow(symmetric=False, update_data=pgm_update_dataset)\n",
    "end = time.time()\n",
    "summary_df.loc['Time series asymmetric calculation', 'PGM NR'] = end - start"
   ]
  },
  {
   "cell_type": "code",
   "execution_count": 21,
   "id": "d1b2d792",
   "metadata": {},
   "outputs": [
    {
     "name": "stdout",
     "output_type": "stream",
     "text": [
      "Progress: |██████████████████████████████████████████████████| 100.0% Complete\n",
      "\n"
     ]
    }
   ],
   "source": [
    "del pp_net.output_writer\n",
    "ow = pp.timeseries.OutputWriter(\n",
    "    pp_net, output_path=output_dir, output_file_type=\".csv\", csv_separator=',')\n",
    "ow.log_variable('res_bus_3ph', 'vm_a_pu', index=pp_net.bus.index)   \n",
    "ow.log_variable('res_bus_3ph', 'vm_b_pu', index=pp_net.bus.index)  \n",
    "ow.log_variable('res_bus_3ph', 'vm_c_pu', index=pp_net.bus.index)  \n",
    "ow.log_variable('res_line_3ph', 'loading_percent', index=pp_net.line.index)  \n",
    "\n",
    "\n",
    "# run\n",
    "start = time.time()\n",
    "pp.timeseries.run_timeseries(\n",
    "    pp_net, run=pp.runpp_3ph, time_steps=time_steps,\n",
    "    calculate_voltage_angles=True, distributed_slack=True\n",
    ")\n",
    "end = time.time()\n",
    "summary_df.loc['Time series asymmetric calculation', 'PandaPower NR'] = end - start"
   ]
  },
  {
   "cell_type": "code",
   "execution_count": 22,
   "id": "1a7f075f",
   "metadata": {},
   "outputs": [],
   "source": [
    "pp_u_pu = []\n",
    "for p in ['a', 'b', 'c']:\n",
    "    pp_u_pu.append(pd.read_csv(output_dir / 'res_bus_3ph' / f'vm_{p}_pu.csv', index_col=0).to_numpy())\n",
    "pp_u_pu = np.stack(pp_u_pu, axis=-1)\n",
    "comparison_df.loc['Time series asymmetric calculation', 'Deviation Voltage (p.u.)'] = \\\n",
    "    np.abs(pp_u_pu - pgm_result['node']['u_pu']).max()\n",
    "pp_loading = pd.read_csv(output_dir / 'res_line_3ph' / 'loading_percent.csv', index_col=0).to_numpy() * 1e-2\n",
    "comparison_df.loc['Time series asymmetric calculation', 'Deviation Loading (p.u.)'] = \\\n",
    "    np.abs(pp_loading - pgm_result['line']['loading']).max()"
   ]
  },
  {
   "cell_type": "markdown",
   "id": "99a41496",
   "metadata": {},
   "source": [
    "# N-1 Scenario Calculation"
   ]
  },
  {
   "cell_type": "code",
   "execution_count": 23,
   "id": "f356020e",
   "metadata": {},
   "outputs": [],
   "source": [
    "# re-generate dataset\n",
    "fictional_dataset = generate_fictional_grid(\n",
    "    n_node_per_feeder=n_node_per_feeder,\n",
    "    n_feeder=n_feeder,\n",
    "    cable_length_km_min=cable_length_km_min,\n",
    "    cable_length_km_max=cable_length_km_max,\n",
    "    load_p_w_max=load_p_w_max,\n",
    "    load_p_w_min=load_p_w_min,\n",
    "    pf=pf\n",
    ")\n",
    "\n",
    "pp_net = fictional_dataset['pp_net']\n",
    "pgm_dataset = fictional_dataset['pgm_dataset']\n",
    "\n",
    "# update dataset for power grid model\n",
    "# disable one line per batch\n",
    "pgm_line_profile = pgm.initialize_array('update', 'line', (n_line, n_line))\n",
    "pgm_line_profile['id'] = pgm_dataset['line']['id']\n",
    "pgm_line_profile['from_status'] = 1\n",
    "pgm_line_profile['to_status'] = 1\n",
    "np.fill_diagonal(pgm_line_profile['from_status'], 0)\n",
    "np.fill_diagonal(pgm_line_profile['to_status'], 0)\n",
    "pgm_update_dataset = {'line': pgm_line_profile}\n",
    "\n",
    "\n"
   ]
  },
  {
   "cell_type": "markdown",
   "id": "fe13fd37",
   "metadata": {},
   "source": [
    "## Symmetric"
   ]
  },
  {
   "cell_type": "code",
   "execution_count": 24,
   "id": "2d6bc4ca",
   "metadata": {},
   "outputs": [],
   "source": [
    "pgm_model = pgm.PowerGridModel(pgm_dataset)\n",
    "start = time.time()\n",
    "pgm_result = pgm_model.calculate_power_flow(calculation_method='linear', update_data=pgm_update_dataset)\n",
    "end = time.time()\n",
    "summary_df.loc['N-1 symmetric calculation', 'PGM Linear'] = end - start"
   ]
  },
  {
   "cell_type": "code",
   "execution_count": 25,
   "id": "46289442",
   "metadata": {},
   "outputs": [],
   "source": [
    "pgm_model = pgm.PowerGridModel(pgm_dataset)\n",
    "start = time.time()\n",
    "pgm_result = pgm_model.calculate_power_flow(update_data=pgm_update_dataset)\n",
    "end = time.time()\n",
    "summary_df.loc['N-1 symmetric calculation', 'PGM NR'] = end - start"
   ]
  },
  {
   "cell_type": "code",
   "execution_count": 26,
   "id": "c1a2c080",
   "metadata": {},
   "outputs": [],
   "source": [
    "# prepare pandapower result dataset\n",
    "pp_u_pu = np.empty(shape=(n_line, n_node), dtype=np.float64)\n",
    "pp_loading = np.empty(shape=(n_line, n_line), dtype=np.float64)\n",
    "\n",
    "\n",
    "start = time.time()\n",
    "# loop to calcualte pandapower N-1\n",
    "for i in pp_net.line.index:\n",
    "    # set one line out of service\n",
    "    pp_net.line.loc[i, 'in_service'] = False\n",
    "    pp.runpp(pp_net, algorithm='nr', calculate_voltage_angles=True, distributed_slack=True)\n",
    "    # restore that line\n",
    "    pp_net.line.loc[i, 'in_service'] = True\n",
    "    # get result\n",
    "    pp_u_pu[i, :] = pp_net.res_bus['vm_pu']\n",
    "    pp_loading[i, :] = pp_net.res_line['loading_percent'] * 1e-2\n",
    "end = time.time()\n",
    "summary_df.loc['N-1 symmetric calculation', 'PandaPower NR'] = end - start\n",
    "\n",
    "# set nan to 0.0 to make a meaningful comparison\n",
    "pp_u_pu[np.isnan(pp_u_pu)] = 0.0\n",
    "pp_loading[np.isnan(pp_loading)] = 0.0\n"
   ]
  },
  {
   "cell_type": "code",
   "execution_count": 27,
   "id": "8b5f8248",
   "metadata": {},
   "outputs": [],
   "source": [
    "comparison_df.loc['N-1 symmetric calculation', 'Deviation Voltage (p.u.)'] = \\\n",
    "    np.abs(pp_u_pu - pgm_result['node']['u_pu']).max()\n",
    "comparison_df.loc['N-1 symmetric calculation', 'Deviation Loading (p.u.)'] = \\\n",
    "    np.abs(pp_loading - pgm_result['line']['loading']).max()"
   ]
  },
  {
   "cell_type": "markdown",
   "id": "019435ed",
   "metadata": {},
   "source": [
    "## Asymmetric"
   ]
  },
  {
   "cell_type": "code",
   "execution_count": 28,
   "id": "dc45963b",
   "metadata": {},
   "outputs": [],
   "source": [
    "pgm_model = pgm.PowerGridModel(pgm_dataset)\n",
    "start = time.time()\n",
    "pgm_result = pgm_model.calculate_power_flow(calculation_method='linear', update_data=pgm_update_dataset, symmetric=False)\n",
    "end = time.time()\n",
    "summary_df.loc['N-1 asymmetric calculation', 'PGM Linear'] = end - start"
   ]
  },
  {
   "cell_type": "code",
   "execution_count": 29,
   "id": "fa94ebf0",
   "metadata": {},
   "outputs": [],
   "source": [
    "pgm_model = pgm.PowerGridModel(pgm_dataset)\n",
    "start = time.time()\n",
    "pgm_result = pgm_model.calculate_power_flow(update_data=pgm_update_dataset, symmetric=False)\n",
    "end = time.time()\n",
    "summary_df.loc['N-1 asymmetric calculation', 'PGM NR'] = end - start"
   ]
  },
  {
   "cell_type": "code",
   "execution_count": 30,
   "id": "49815375",
   "metadata": {},
   "outputs": [
    {
     "name": "stderr",
     "output_type": "stream",
     "text": [
      "C:\\Users\\EBA00350\\Miniconda3\\envs\\dnr\\lib\\site-packages\\pandapower\\results_bus.py:54: RuntimeWarning: invalid value encountered in true_divide\n",
      "  net[\"res_bus_3ph\"][\"unbalance_percent\"] = np.abs(V012_pu[2, :]/V012_pu[1, :])*100\n",
      "C:\\Users\\EBA00350\\Miniconda3\\envs\\dnr\\lib\\site-packages\\pandapower\\auxiliary.py:838: RuntimeWarning: invalid value encountered in true_divide\n",
      "  return np.conjugate(np.divide(S, V, out=np.zeros_like(S), where=V != 0))  # Return zero if div by zero\n"
     ]
    }
   ],
   "source": [
    "# prepare pandapower result dataset\n",
    "pp_u_pu = np.empty(shape=(n_line, n_node, 3), dtype=np.float64)\n",
    "pp_loading = np.empty(shape=(n_line, n_line), dtype=np.float64)\n",
    "\n",
    "\n",
    "start = time.time()\n",
    "# loop to calcualte pandapower N-1\n",
    "for i in pp_net.line.index:\n",
    "    # set one line out of service\n",
    "    pp_net.line.loc[i, 'in_service'] = False\n",
    "    pp.runpp_3ph(pp_net, algorithm='nr', calculate_voltage_angles=True, distributed_slack=True)\n",
    "    # restore that line\n",
    "    pp_net.line.loc[i, 'in_service'] = True\n",
    "    # get result\n",
    "    pp_u_pu[i, ...] = pp_net.res_bus_3ph[['vm_a_pu', 'vm_b_pu', 'vm_c_pu']]\n",
    "    pp_loading[i, :] = pp_net.res_line_3ph['loading_percent'] * 1e-2\n",
    "end = time.time()\n",
    "summary_df.loc['N-1 asymmetric calculation', 'PandaPower NR'] = end - start\n",
    "\n",
    "# set nan to 0.0 to make a meaningful comparison\n",
    "pp_u_pu[np.isnan(pp_u_pu)] = 0.0\n",
    "pp_loading[np.isnan(pp_loading)] = 0.0"
   ]
  },
  {
   "cell_type": "code",
   "execution_count": 31,
   "id": "8d31679c",
   "metadata": {},
   "outputs": [],
   "source": [
    "comparison_df.loc['N-1 asymmetric calculation', 'Deviation Voltage (p.u.)'] = \\\n",
    "    np.abs(pp_u_pu - pgm_result['node']['u_pu']).max()\n",
    "comparison_df.loc['N-1 asymmetric calculation', 'Deviation Loading (p.u.)'] = \\\n",
    "    np.abs(pp_loading - pgm_result['line']['loading']).max()"
   ]
  },
  {
   "cell_type": "markdown",
   "id": "ff983dfb",
   "metadata": {},
   "source": [
    "# Summary"
   ]
  },
  {
   "cell_type": "code",
   "execution_count": 32,
   "id": "4f897355",
   "metadata": {},
   "outputs": [
    {
     "data": {
      "text/html": [
       "<div>\n",
       "<style scoped>\n",
       "    .dataframe tbody tr th:only-of-type {\n",
       "        vertical-align: middle;\n",
       "    }\n",
       "\n",
       "    .dataframe tbody tr th {\n",
       "        vertical-align: top;\n",
       "    }\n",
       "\n",
       "    .dataframe thead th {\n",
       "        text-align: right;\n",
       "    }\n",
       "</style>\n",
       "<table border=\"1\" class=\"dataframe\">\n",
       "  <thead>\n",
       "    <tr style=\"text-align: right;\">\n",
       "      <th></th>\n",
       "      <th>PGM Linear</th>\n",
       "      <th>PGM NR</th>\n",
       "      <th>PandaPower NR</th>\n",
       "    </tr>\n",
       "  </thead>\n",
       "  <tbody>\n",
       "    <tr>\n",
       "      <th>Symmetric calculation with solver initialization</th>\n",
       "      <td>0.000996</td>\n",
       "      <td>0.000000</td>\n",
       "      <td>0.024965</td>\n",
       "    </tr>\n",
       "    <tr>\n",
       "      <th>Symmetric calculation without solver initialization</th>\n",
       "      <td>0.000000</td>\n",
       "      <td>0.000000</td>\n",
       "      <td>0.014995</td>\n",
       "    </tr>\n",
       "    <tr>\n",
       "      <th>Asymmetric calculation with solver initialization</th>\n",
       "      <td>0.001010</td>\n",
       "      <td>0.001038</td>\n",
       "      <td>0.092039</td>\n",
       "    </tr>\n",
       "    <tr>\n",
       "      <th>Asymmetric calculation without solver initialization</th>\n",
       "      <td>0.000000</td>\n",
       "      <td>0.000960</td>\n",
       "      <td>0.081986</td>\n",
       "    </tr>\n",
       "    <tr>\n",
       "      <th>Time series symmetric calculation</th>\n",
       "      <td>0.006004</td>\n",
       "      <td>0.012992</td>\n",
       "      <td>1.717615</td>\n",
       "    </tr>\n",
       "    <tr>\n",
       "      <th>Time series asymmetric calculation</th>\n",
       "      <td>0.005038</td>\n",
       "      <td>0.022006</td>\n",
       "      <td>7.387367</td>\n",
       "    </tr>\n",
       "    <tr>\n",
       "      <th>N-1 symmetric calculation</th>\n",
       "      <td>0.001000</td>\n",
       "      <td>0.002003</td>\n",
       "      <td>0.125998</td>\n",
       "    </tr>\n",
       "    <tr>\n",
       "      <th>N-1 asymmetric calculation</th>\n",
       "      <td>0.000991</td>\n",
       "      <td>0.007020</td>\n",
       "      <td>0.506583</td>\n",
       "    </tr>\n",
       "  </tbody>\n",
       "</table>\n",
       "</div>"
      ],
      "text/plain": [
       "                                                    PGM Linear    PGM NR  \\\n",
       "Symmetric calculation with solver initialization      0.000996  0.000000   \n",
       "Symmetric calculation without solver initializa...    0.000000  0.000000   \n",
       "Asymmetric calculation with solver initialization     0.001010  0.001038   \n",
       "Asymmetric calculation without solver initializ...    0.000000  0.000960   \n",
       "Time series symmetric calculation                     0.006004  0.012992   \n",
       "Time series asymmetric calculation                    0.005038  0.022006   \n",
       "N-1 symmetric calculation                             0.001000  0.002003   \n",
       "N-1 asymmetric calculation                            0.000991  0.007020   \n",
       "\n",
       "                                                    PandaPower NR  \n",
       "Symmetric calculation with solver initialization         0.024965  \n",
       "Symmetric calculation without solver initializa...       0.014995  \n",
       "Asymmetric calculation with solver initialization        0.092039  \n",
       "Asymmetric calculation without solver initializ...       0.081986  \n",
       "Time series symmetric calculation                        1.717615  \n",
       "Time series asymmetric calculation                       7.387367  \n",
       "N-1 symmetric calculation                                0.125998  \n",
       "N-1 asymmetric calculation                               0.506583  "
      ]
     },
     "execution_count": 32,
     "metadata": {},
     "output_type": "execute_result"
    }
   ],
   "source": [
    "summary_df"
   ]
  },
  {
   "cell_type": "code",
   "execution_count": 33,
   "id": "cc1c1e2c",
   "metadata": {},
   "outputs": [
    {
     "data": {
      "text/html": [
       "<div>\n",
       "<style scoped>\n",
       "    .dataframe tbody tr th:only-of-type {\n",
       "        vertical-align: middle;\n",
       "    }\n",
       "\n",
       "    .dataframe tbody tr th {\n",
       "        vertical-align: top;\n",
       "    }\n",
       "\n",
       "    .dataframe thead th {\n",
       "        text-align: right;\n",
       "    }\n",
       "</style>\n",
       "<table border=\"1\" class=\"dataframe\">\n",
       "  <thead>\n",
       "    <tr style=\"text-align: right;\">\n",
       "      <th></th>\n",
       "      <th>Deviation Voltage (p.u.)</th>\n",
       "      <th>Deviation Loading (p.u.)</th>\n",
       "    </tr>\n",
       "  </thead>\n",
       "  <tbody>\n",
       "    <tr>\n",
       "      <th>Symmetric calculation</th>\n",
       "      <td>1.517964e-11</td>\n",
       "      <td>2.034977e-10</td>\n",
       "    </tr>\n",
       "    <tr>\n",
       "      <th>Asymmetric calculation</th>\n",
       "      <td>4.105885e-10</td>\n",
       "      <td>2.975986e-09</td>\n",
       "    </tr>\n",
       "    <tr>\n",
       "      <th>Time series symmetric calculation</th>\n",
       "      <td>4.128009e-11</td>\n",
       "      <td>5.536479e-10</td>\n",
       "    </tr>\n",
       "    <tr>\n",
       "      <th>Time series asymmetric calculation</th>\n",
       "      <td>1.539107e-09</td>\n",
       "      <td>1.705008e-08</td>\n",
       "    </tr>\n",
       "    <tr>\n",
       "      <th>N-1 symmetric calculation</th>\n",
       "      <td>1.517808e-11</td>\n",
       "      <td>2.035249e-10</td>\n",
       "    </tr>\n",
       "    <tr>\n",
       "      <th>N-1 asymmetric calculation</th>\n",
       "      <td>4.105933e-10</td>\n",
       "      <td>2.976003e-09</td>\n",
       "    </tr>\n",
       "  </tbody>\n",
       "</table>\n",
       "</div>"
      ],
      "text/plain": [
       "                                    Deviation Voltage (p.u.)  \\\n",
       "Symmetric calculation                           1.517964e-11   \n",
       "Asymmetric calculation                          4.105885e-10   \n",
       "Time series symmetric calculation               4.128009e-11   \n",
       "Time series asymmetric calculation              1.539107e-09   \n",
       "N-1 symmetric calculation                       1.517808e-11   \n",
       "N-1 asymmetric calculation                      4.105933e-10   \n",
       "\n",
       "                                    Deviation Loading (p.u.)  \n",
       "Symmetric calculation                           2.034977e-10  \n",
       "Asymmetric calculation                          2.975986e-09  \n",
       "Time series symmetric calculation               5.536479e-10  \n",
       "Time series asymmetric calculation              1.705008e-08  \n",
       "N-1 symmetric calculation                       2.035249e-10  \n",
       "N-1 asymmetric calculation                      2.976003e-09  "
      ]
     },
     "execution_count": 33,
     "metadata": {},
     "output_type": "execute_result"
    }
   ],
   "source": [
    "comparison_df"
   ]
  },
  {
   "cell_type": "code",
   "execution_count": 34,
   "id": "0830e357",
   "metadata": {},
   "outputs": [
    {
     "data": {
      "text/plain": [
       "This pandapower network includes the following parameter tables:\n",
       "   - bus (7 elements)\n",
       "   - asymmetric_load (6 elements)\n",
       "   - ext_grid (1 element)\n",
       "   - line (6 elements)\n",
       " and the following results tables:\n",
       "   - res_bus (7 elements)\n",
       "   - res_line (6 elements)\n",
       "   - res_ext_grid (1 element)\n",
       "   - res_asymmetric_load (6 elements)\n",
       "   - res_bus_3ph (7 elements)\n",
       "   - res_line_3ph (6 elements)\n",
       "   - res_ext_grid_3ph (1 element)\n",
       "   - res_asymmetric_load_3ph (6 elements)"
      ]
     },
     "execution_count": 34,
     "metadata": {},
     "output_type": "execute_result"
    }
   ],
   "source": [
    "pp_net"
   ]
  },
  {
   "cell_type": "code",
   "execution_count": null,
   "id": "6c921324",
   "metadata": {},
   "outputs": [],
   "source": []
  }
 ],
 "metadata": {
  "kernelspec": {
   "display_name": "Python 3",
   "language": "python",
   "name": "python3"
  },
  "language_info": {
   "codemirror_mode": {
    "name": "ipython",
    "version": 3
   },
   "file_extension": ".py",
   "mimetype": "text/x-python",
   "name": "python",
   "nbconvert_exporter": "python",
   "pygments_lexer": "ipython3",
   "version": "3.9.7"
  }
 },
 "nbformat": 4,
 "nbformat_minor": 5
}
